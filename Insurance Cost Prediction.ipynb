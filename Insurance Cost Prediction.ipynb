{
 "cells": [
  {
   "cell_type": "markdown",
   "id": "f1e6a1da",
   "metadata": {},
   "source": [
    "# INSURANCE COST PREDICTION\n",
    "### A supervised learning model that can predict the cost of premium for health insurance."
   ]
  },
  {
   "cell_type": "markdown",
   "id": "509515f7",
   "metadata": {},
   "source": [
    "# Importing all the necessary libraries"
   ]
  },
  {
   "cell_type": "code",
   "execution_count": 1,
   "id": "a0db41a7",
   "metadata": {},
   "outputs": [],
   "source": [
    "import pandas as pd\n",
    "import numpy as np\n",
    "import seaborn as sn\n",
    "import matplotlib.pyplot as plt\n",
    "from sklearn.preprocessing import LabelEncoder, MinMaxScaler\n",
    "from scipy import stats\n",
    "from sklearn.model_selection import train_test_split, GridSearchCV , RandomizedSearchCV, cross_val_score\n",
    "from sklearn.linear_model import LinearRegression, Ridge, Lasso\n",
    "from sklearn.svm import SVR\n",
    "from sklearn.tree import DecisionTreeRegressor\n",
    "from sklearn.ensemble import RandomForestRegressor\n",
    "from sklearn.metrics import r2_score, mean_squared_error\n",
    "\n",
    "import warnings\n",
    "warnings.filterwarnings('ignore')\n",
    "\n",
    "%matplotlib inline"
   ]
  },
  {
   "cell_type": "markdown",
   "id": "606a01e7",
   "metadata": {},
   "source": [
    "# Loading the dataset into the dataframe"
   ]
  },
  {
   "cell_type": "code",
   "execution_count": 2,
   "id": "086e8fae",
   "metadata": {},
   "outputs": [],
   "source": [
    "data = pd.read_csv(\"Insurance Cost Prediction.csv\")"
   ]
  },
  {
   "cell_type": "code",
   "execution_count": 3,
   "id": "63d25acd",
   "metadata": {},
   "outputs": [
    {
     "data": {
      "text/html": [
       "<div>\n",
       "<style scoped>\n",
       "    .dataframe tbody tr th:only-of-type {\n",
       "        vertical-align: middle;\n",
       "    }\n",
       "\n",
       "    .dataframe tbody tr th {\n",
       "        vertical-align: top;\n",
       "    }\n",
       "\n",
       "    .dataframe thead th {\n",
       "        text-align: right;\n",
       "    }\n",
       "</style>\n",
       "<table border=\"1\" class=\"dataframe\">\n",
       "  <thead>\n",
       "    <tr style=\"text-align: right;\">\n",
       "      <th></th>\n",
       "      <th>age</th>\n",
       "      <th>sex</th>\n",
       "      <th>bmi</th>\n",
       "      <th>children</th>\n",
       "      <th>smoker</th>\n",
       "      <th>region</th>\n",
       "      <th>charges</th>\n",
       "    </tr>\n",
       "  </thead>\n",
       "  <tbody>\n",
       "    <tr>\n",
       "      <th>0</th>\n",
       "      <td>19</td>\n",
       "      <td>female</td>\n",
       "      <td>27.900</td>\n",
       "      <td>0</td>\n",
       "      <td>yes</td>\n",
       "      <td>southwest</td>\n",
       "      <td>16884.92400</td>\n",
       "    </tr>\n",
       "    <tr>\n",
       "      <th>1</th>\n",
       "      <td>18</td>\n",
       "      <td>male</td>\n",
       "      <td>33.770</td>\n",
       "      <td>1</td>\n",
       "      <td>no</td>\n",
       "      <td>southeast</td>\n",
       "      <td>1725.55230</td>\n",
       "    </tr>\n",
       "    <tr>\n",
       "      <th>2</th>\n",
       "      <td>28</td>\n",
       "      <td>male</td>\n",
       "      <td>33.000</td>\n",
       "      <td>3</td>\n",
       "      <td>no</td>\n",
       "      <td>southeast</td>\n",
       "      <td>4449.46200</td>\n",
       "    </tr>\n",
       "    <tr>\n",
       "      <th>3</th>\n",
       "      <td>33</td>\n",
       "      <td>male</td>\n",
       "      <td>22.705</td>\n",
       "      <td>0</td>\n",
       "      <td>no</td>\n",
       "      <td>northwest</td>\n",
       "      <td>21984.47061</td>\n",
       "    </tr>\n",
       "    <tr>\n",
       "      <th>4</th>\n",
       "      <td>32</td>\n",
       "      <td>male</td>\n",
       "      <td>28.880</td>\n",
       "      <td>0</td>\n",
       "      <td>no</td>\n",
       "      <td>northwest</td>\n",
       "      <td>3866.85520</td>\n",
       "    </tr>\n",
       "  </tbody>\n",
       "</table>\n",
       "</div>"
      ],
      "text/plain": [
       "   age     sex     bmi  children smoker     region      charges\n",
       "0   19  female  27.900         0    yes  southwest  16884.92400\n",
       "1   18    male  33.770         1     no  southeast   1725.55230\n",
       "2   28    male  33.000         3     no  southeast   4449.46200\n",
       "3   33    male  22.705         0     no  northwest  21984.47061\n",
       "4   32    male  28.880         0     no  northwest   3866.85520"
      ]
     },
     "execution_count": 3,
     "metadata": {},
     "output_type": "execute_result"
    }
   ],
   "source": [
    "data.head()"
   ]
  },
  {
   "cell_type": "markdown",
   "id": "848b781a",
   "metadata": {},
   "source": [
    "# Total no.of rows and columns"
   ]
  },
  {
   "cell_type": "code",
   "execution_count": 4,
   "id": "0140be50",
   "metadata": {},
   "outputs": [
    {
     "data": {
      "text/plain": [
       "(5352, 7)"
      ]
     },
     "execution_count": 4,
     "metadata": {},
     "output_type": "execute_result"
    }
   ],
   "source": [
    "data.shape"
   ]
  },
  {
   "cell_type": "markdown",
   "id": "28794709",
   "metadata": {},
   "source": [
    "# Checking the types of data"
   ]
  },
  {
   "cell_type": "code",
   "execution_count": 5,
   "id": "7debdee9",
   "metadata": {},
   "outputs": [
    {
     "name": "stdout",
     "output_type": "stream",
     "text": [
      "<class 'pandas.core.frame.DataFrame'>\n",
      "RangeIndex: 5352 entries, 0 to 5351\n",
      "Data columns (total 7 columns):\n",
      " #   Column    Non-Null Count  Dtype  \n",
      "---  ------    --------------  -----  \n",
      " 0   age       5352 non-null   int64  \n",
      " 1   sex       5352 non-null   object \n",
      " 2   bmi       5352 non-null   float64\n",
      " 3   children  5352 non-null   int64  \n",
      " 4   smoker    5352 non-null   object \n",
      " 5   region    5352 non-null   object \n",
      " 6   charges   5352 non-null   float64\n",
      "dtypes: float64(2), int64(2), object(3)\n",
      "memory usage: 292.8+ KB\n"
     ]
    }
   ],
   "source": [
    "data.info()"
   ]
  },
  {
   "cell_type": "markdown",
   "id": "feee19f8",
   "metadata": {},
   "source": [
    "# Checking for duplicates"
   ]
  },
  {
   "cell_type": "code",
   "execution_count": 6,
   "id": "14a54445",
   "metadata": {
    "scrolled": false
   },
   "outputs": [
    {
     "data": {
      "text/plain": [
       "4015"
      ]
     },
     "execution_count": 6,
     "metadata": {},
     "output_type": "execute_result"
    }
   ],
   "source": [
    "data.duplicated().sum()"
   ]
  },
  {
   "cell_type": "markdown",
   "id": "4da9271b",
   "metadata": {},
   "source": [
    "#### Duplicates are not removed as the dataset is small and model needs more data."
   ]
  },
  {
   "cell_type": "markdown",
   "id": "65c47ca5",
   "metadata": {},
   "source": [
    "# Checking for missing values"
   ]
  },
  {
   "cell_type": "code",
   "execution_count": 7,
   "id": "1b2d37e0",
   "metadata": {},
   "outputs": [
    {
     "data": {
      "text/plain": [
       "age         0\n",
       "sex         0\n",
       "bmi         0\n",
       "children    0\n",
       "smoker      0\n",
       "region      0\n",
       "charges     0\n",
       "dtype: int64"
      ]
     },
     "execution_count": 7,
     "metadata": {},
     "output_type": "execute_result"
    }
   ],
   "source": [
    "data.isnull().sum()"
   ]
  },
  {
   "cell_type": "markdown",
   "id": "37883c14",
   "metadata": {},
   "source": [
    "There are no missing values."
   ]
  },
  {
   "cell_type": "markdown",
   "id": "c4d6cffb",
   "metadata": {},
   "source": [
    "# Finding the unique values of each column"
   ]
  },
  {
   "cell_type": "code",
   "execution_count": 8,
   "id": "93ff0af8",
   "metadata": {
    "scrolled": true
   },
   "outputs": [
    {
     "name": "stdout",
     "output_type": "stream",
     "text": [
      "Age:  [19 18 28 33 32 31 46 37 60 25 62 23 56 27 52 30 34 59 63 55 22 26 35 24\n",
      " 41 38 36 21 48 40 58 53 43 64 20 61 44 57 29 45 54 49 47 51 42 50 39]\n",
      "Sex:  ['female' 'male']\n",
      "Children:  [0 1 3 2 5 4]\n",
      "Smoker:  ['yes' 'no']\n",
      "region:  ['southwest' 'southeast' 'northwest' 'northeast']\n"
     ]
    }
   ],
   "source": [
    "print(\"Age: \", data.age.unique())\n",
    "print(\"Sex: \", data.sex.unique())\n",
    "print(\"Children: \", data.children.unique())\n",
    "print(\"Smoker: \", data.smoker.unique())\n",
    "print(\"region: \", data.region.unique())"
   ]
  },
  {
   "cell_type": "markdown",
   "id": "1f4e00c3",
   "metadata": {},
   "source": [
    "# Converting categorical data to numerical"
   ]
  },
  {
   "cell_type": "code",
   "execution_count": 9,
   "id": "2452530d",
   "metadata": {},
   "outputs": [],
   "source": [
    "enc = LabelEncoder()"
   ]
  },
  {
   "cell_type": "code",
   "execution_count": 10,
   "id": "522db06d",
   "metadata": {},
   "outputs": [],
   "source": [
    "data.sex = enc.fit_transform(data.sex) # Female 0 and Male 1\n",
    "data.smoker = enc.fit_transform(data.smoker) # No 0 and Yes 1\n",
    "data.region = enc.fit_transform(data.region) # Northeast 0, Northwest 1, Southeast 2, Southwest 3"
   ]
  },
  {
   "cell_type": "code",
   "execution_count": 11,
   "id": "e6a088ca",
   "metadata": {},
   "outputs": [
    {
     "data": {
      "text/html": [
       "<div>\n",
       "<style scoped>\n",
       "    .dataframe tbody tr th:only-of-type {\n",
       "        vertical-align: middle;\n",
       "    }\n",
       "\n",
       "    .dataframe tbody tr th {\n",
       "        vertical-align: top;\n",
       "    }\n",
       "\n",
       "    .dataframe thead th {\n",
       "        text-align: right;\n",
       "    }\n",
       "</style>\n",
       "<table border=\"1\" class=\"dataframe\">\n",
       "  <thead>\n",
       "    <tr style=\"text-align: right;\">\n",
       "      <th></th>\n",
       "      <th>age</th>\n",
       "      <th>sex</th>\n",
       "      <th>bmi</th>\n",
       "      <th>children</th>\n",
       "      <th>smoker</th>\n",
       "      <th>region</th>\n",
       "      <th>charges</th>\n",
       "    </tr>\n",
       "  </thead>\n",
       "  <tbody>\n",
       "    <tr>\n",
       "      <th>0</th>\n",
       "      <td>19</td>\n",
       "      <td>0</td>\n",
       "      <td>27.900</td>\n",
       "      <td>0</td>\n",
       "      <td>1</td>\n",
       "      <td>3</td>\n",
       "      <td>16884.92400</td>\n",
       "    </tr>\n",
       "    <tr>\n",
       "      <th>1</th>\n",
       "      <td>18</td>\n",
       "      <td>1</td>\n",
       "      <td>33.770</td>\n",
       "      <td>1</td>\n",
       "      <td>0</td>\n",
       "      <td>2</td>\n",
       "      <td>1725.55230</td>\n",
       "    </tr>\n",
       "    <tr>\n",
       "      <th>2</th>\n",
       "      <td>28</td>\n",
       "      <td>1</td>\n",
       "      <td>33.000</td>\n",
       "      <td>3</td>\n",
       "      <td>0</td>\n",
       "      <td>2</td>\n",
       "      <td>4449.46200</td>\n",
       "    </tr>\n",
       "    <tr>\n",
       "      <th>3</th>\n",
       "      <td>33</td>\n",
       "      <td>1</td>\n",
       "      <td>22.705</td>\n",
       "      <td>0</td>\n",
       "      <td>0</td>\n",
       "      <td>1</td>\n",
       "      <td>21984.47061</td>\n",
       "    </tr>\n",
       "    <tr>\n",
       "      <th>4</th>\n",
       "      <td>32</td>\n",
       "      <td>1</td>\n",
       "      <td>28.880</td>\n",
       "      <td>0</td>\n",
       "      <td>0</td>\n",
       "      <td>1</td>\n",
       "      <td>3866.85520</td>\n",
       "    </tr>\n",
       "    <tr>\n",
       "      <th>5</th>\n",
       "      <td>31</td>\n",
       "      <td>0</td>\n",
       "      <td>25.740</td>\n",
       "      <td>0</td>\n",
       "      <td>0</td>\n",
       "      <td>2</td>\n",
       "      <td>3756.62160</td>\n",
       "    </tr>\n",
       "    <tr>\n",
       "      <th>6</th>\n",
       "      <td>46</td>\n",
       "      <td>0</td>\n",
       "      <td>33.440</td>\n",
       "      <td>1</td>\n",
       "      <td>0</td>\n",
       "      <td>2</td>\n",
       "      <td>8240.58960</td>\n",
       "    </tr>\n",
       "    <tr>\n",
       "      <th>7</th>\n",
       "      <td>37</td>\n",
       "      <td>0</td>\n",
       "      <td>27.740</td>\n",
       "      <td>3</td>\n",
       "      <td>0</td>\n",
       "      <td>1</td>\n",
       "      <td>7281.50560</td>\n",
       "    </tr>\n",
       "    <tr>\n",
       "      <th>8</th>\n",
       "      <td>37</td>\n",
       "      <td>1</td>\n",
       "      <td>29.830</td>\n",
       "      <td>2</td>\n",
       "      <td>0</td>\n",
       "      <td>0</td>\n",
       "      <td>6406.41070</td>\n",
       "    </tr>\n",
       "    <tr>\n",
       "      <th>9</th>\n",
       "      <td>60</td>\n",
       "      <td>0</td>\n",
       "      <td>25.840</td>\n",
       "      <td>0</td>\n",
       "      <td>0</td>\n",
       "      <td>1</td>\n",
       "      <td>28923.13692</td>\n",
       "    </tr>\n",
       "  </tbody>\n",
       "</table>\n",
       "</div>"
      ],
      "text/plain": [
       "   age  sex     bmi  children  smoker  region      charges\n",
       "0   19    0  27.900         0       1       3  16884.92400\n",
       "1   18    1  33.770         1       0       2   1725.55230\n",
       "2   28    1  33.000         3       0       2   4449.46200\n",
       "3   33    1  22.705         0       0       1  21984.47061\n",
       "4   32    1  28.880         0       0       1   3866.85520\n",
       "5   31    0  25.740         0       0       2   3756.62160\n",
       "6   46    0  33.440         1       0       2   8240.58960\n",
       "7   37    0  27.740         3       0       1   7281.50560\n",
       "8   37    1  29.830         2       0       0   6406.41070\n",
       "9   60    0  25.840         0       0       1  28923.13692"
      ]
     },
     "execution_count": 11,
     "metadata": {},
     "output_type": "execute_result"
    }
   ],
   "source": [
    "data.head(10)"
   ]
  },
  {
   "cell_type": "markdown",
   "id": "f88dd45a",
   "metadata": {},
   "source": [
    "# Statistical information describe"
   ]
  },
  {
   "cell_type": "code",
   "execution_count": 12,
   "id": "317baf1c",
   "metadata": {},
   "outputs": [
    {
     "data": {
      "text/html": [
       "<div>\n",
       "<style scoped>\n",
       "    .dataframe tbody tr th:only-of-type {\n",
       "        vertical-align: middle;\n",
       "    }\n",
       "\n",
       "    .dataframe tbody tr th {\n",
       "        vertical-align: top;\n",
       "    }\n",
       "\n",
       "    .dataframe thead th {\n",
       "        text-align: right;\n",
       "    }\n",
       "</style>\n",
       "<table border=\"1\" class=\"dataframe\">\n",
       "  <thead>\n",
       "    <tr style=\"text-align: right;\">\n",
       "      <th></th>\n",
       "      <th>age</th>\n",
       "      <th>sex</th>\n",
       "      <th>bmi</th>\n",
       "      <th>children</th>\n",
       "      <th>smoker</th>\n",
       "      <th>region</th>\n",
       "      <th>charges</th>\n",
       "    </tr>\n",
       "  </thead>\n",
       "  <tbody>\n",
       "    <tr>\n",
       "      <th>count</th>\n",
       "      <td>5352.000000</td>\n",
       "      <td>5352.000000</td>\n",
       "      <td>5352.000000</td>\n",
       "      <td>5352.000000</td>\n",
       "      <td>5352.000000</td>\n",
       "      <td>5352.000000</td>\n",
       "      <td>5352.000000</td>\n",
       "    </tr>\n",
       "    <tr>\n",
       "      <th>mean</th>\n",
       "      <td>39.207025</td>\n",
       "      <td>0.505232</td>\n",
       "      <td>30.663397</td>\n",
       "      <td>1.094918</td>\n",
       "      <td>0.204783</td>\n",
       "      <td>1.515695</td>\n",
       "      <td>13270.422265</td>\n",
       "    </tr>\n",
       "    <tr>\n",
       "      <th>std</th>\n",
       "      <td>14.046021</td>\n",
       "      <td>0.500019</td>\n",
       "      <td>6.096477</td>\n",
       "      <td>1.205155</td>\n",
       "      <td>0.403581</td>\n",
       "      <td>1.104575</td>\n",
       "      <td>12106.616065</td>\n",
       "    </tr>\n",
       "    <tr>\n",
       "      <th>min</th>\n",
       "      <td>18.000000</td>\n",
       "      <td>0.000000</td>\n",
       "      <td>15.960000</td>\n",
       "      <td>0.000000</td>\n",
       "      <td>0.000000</td>\n",
       "      <td>0.000000</td>\n",
       "      <td>1121.873900</td>\n",
       "    </tr>\n",
       "    <tr>\n",
       "      <th>25%</th>\n",
       "      <td>27.000000</td>\n",
       "      <td>0.000000</td>\n",
       "      <td>26.290000</td>\n",
       "      <td>0.000000</td>\n",
       "      <td>0.000000</td>\n",
       "      <td>1.000000</td>\n",
       "      <td>4738.268200</td>\n",
       "    </tr>\n",
       "    <tr>\n",
       "      <th>50%</th>\n",
       "      <td>39.000000</td>\n",
       "      <td>1.000000</td>\n",
       "      <td>30.400000</td>\n",
       "      <td>1.000000</td>\n",
       "      <td>0.000000</td>\n",
       "      <td>2.000000</td>\n",
       "      <td>9382.033000</td>\n",
       "    </tr>\n",
       "    <tr>\n",
       "      <th>75%</th>\n",
       "      <td>51.000000</td>\n",
       "      <td>1.000000</td>\n",
       "      <td>34.700000</td>\n",
       "      <td>2.000000</td>\n",
       "      <td>0.000000</td>\n",
       "      <td>2.000000</td>\n",
       "      <td>16657.717450</td>\n",
       "    </tr>\n",
       "    <tr>\n",
       "      <th>max</th>\n",
       "      <td>64.000000</td>\n",
       "      <td>1.000000</td>\n",
       "      <td>53.130000</td>\n",
       "      <td>5.000000</td>\n",
       "      <td>1.000000</td>\n",
       "      <td>3.000000</td>\n",
       "      <td>63770.428010</td>\n",
       "    </tr>\n",
       "  </tbody>\n",
       "</table>\n",
       "</div>"
      ],
      "text/plain": [
       "               age          sex          bmi     children       smoker  \\\n",
       "count  5352.000000  5352.000000  5352.000000  5352.000000  5352.000000   \n",
       "mean     39.207025     0.505232    30.663397     1.094918     0.204783   \n",
       "std      14.046021     0.500019     6.096477     1.205155     0.403581   \n",
       "min      18.000000     0.000000    15.960000     0.000000     0.000000   \n",
       "25%      27.000000     0.000000    26.290000     0.000000     0.000000   \n",
       "50%      39.000000     1.000000    30.400000     1.000000     0.000000   \n",
       "75%      51.000000     1.000000    34.700000     2.000000     0.000000   \n",
       "max      64.000000     1.000000    53.130000     5.000000     1.000000   \n",
       "\n",
       "            region       charges  \n",
       "count  5352.000000   5352.000000  \n",
       "mean      1.515695  13270.422265  \n",
       "std       1.104575  12106.616065  \n",
       "min       0.000000   1121.873900  \n",
       "25%       1.000000   4738.268200  \n",
       "50%       2.000000   9382.033000  \n",
       "75%       2.000000  16657.717450  \n",
       "max       3.000000  63770.428010  "
      ]
     },
     "execution_count": 12,
     "metadata": {},
     "output_type": "execute_result"
    }
   ],
   "source": [
    "data.describe()"
   ]
  },
  {
   "cell_type": "markdown",
   "id": "02cd006a",
   "metadata": {},
   "source": [
    "# Finding the outliers in numerical data"
   ]
  },
  {
   "cell_type": "code",
   "execution_count": 13,
   "id": "7436c7cb",
   "metadata": {},
   "outputs": [],
   "source": [
    "# Function to identify the outliers\n",
    "def findoutliers(column):\n",
    "    outliers=[]\n",
    "    Q1=column.quantile(.25)\n",
    "    Q3=column.quantile(.75)\n",
    "    IQR=Q3-Q1\n",
    "    lower_limit=Q1-(1.5*IQR)\n",
    "    upper_limit=Q3+(1.5*IQR)\n",
    "    for out1 in column:\n",
    "        if out1>upper_limit or out1 <lower_limit:\n",
    "            outliers.append(out1)\n",
    "            \n",
    "    return np.array(outliers)  "
   ]
  },
  {
   "cell_type": "code",
   "execution_count": 14,
   "id": "4dda75e6",
   "metadata": {},
   "outputs": [
    {
     "name": "stdout",
     "output_type": "stream",
     "text": [
      "0\n"
     ]
    }
   ],
   "source": [
    "print(len(findoutliers(data.age))) # Number of rows having outlier in age"
   ]
  },
  {
   "cell_type": "code",
   "execution_count": 15,
   "id": "53d3c482",
   "metadata": {},
   "outputs": [
    {
     "name": "stdout",
     "output_type": "stream",
     "text": [
      "36\n"
     ]
    }
   ],
   "source": [
    "print(len(findoutliers(data.bmi))) # Number of rows having outlier in bmi"
   ]
  },
  {
   "cell_type": "code",
   "execution_count": 16,
   "id": "9f38b0ec",
   "metadata": {},
   "outputs": [
    {
     "name": "stdout",
     "output_type": "stream",
     "text": [
      "0\n"
     ]
    }
   ],
   "source": [
    "print(len(findoutliers(data.children))) # Number of rows having outlier in children"
   ]
  },
  {
   "cell_type": "code",
   "execution_count": 17,
   "id": "1489c65a",
   "metadata": {},
   "outputs": [
    {
     "data": {
      "text/plain": [
       "<AxesSubplot:xlabel='bmi'>"
      ]
     },
     "execution_count": 17,
     "metadata": {},
     "output_type": "execute_result"
    },
    {
     "data": {
      "image/png": "[encoded data removed]",
      "text/plain": [
       "<Figure size 432x288 with 1 Axes>"
      ]
     },
     "metadata": {
      "needs_background": "light"
     },
     "output_type": "display_data"
    }
   ],
   "source": [
    "sn.boxplot(data.bmi) # Visualising bmi- outliers"
   ]
  },
  {
   "cell_type": "markdown",
   "id": "d66b781d",
   "metadata": {},
   "source": [
    "#### Outliers are not removed as models like decision tree are not sensitive to outliers."
   ]
  },
  {
   "cell_type": "markdown",
   "id": "6e28391a",
   "metadata": {},
   "source": [
    "# Visualising numerical data"
   ]
  },
  {
   "cell_type": "code",
   "execution_count": 18,
   "id": "4793c055",
   "metadata": {},
   "outputs": [
    {
     "data": {
      "text/plain": [
       "(array([888., 560., 436., 512., 408., 548., 576., 456., 512., 456.]),\n",
       " array([18. , 22.6, 27.2, 31.8, 36.4, 41. , 45.6, 50.2, 54.8, 59.4, 64. ]),\n",
       " <BarContainer object of 10 artists>)"
      ]
     },
     "execution_count": 18,
     "metadata": {},
     "output_type": "execute_result"
    },
    {
     "data": {
      "image/png": "[encoded data removed]",
      "text/plain": [
       "<Figure size 432x288 with 1 Axes>"
      ]
     },
     "metadata": {
      "needs_background": "light"
     },
     "output_type": "display_data"
    }
   ],
   "source": [
    "plt.hist(data.age) # Continuous data"
   ]
  },
  {
   "cell_type": "code",
   "execution_count": 19,
   "id": "04bad36e",
   "metadata": {},
   "outputs": [
    {
     "data": {
      "text/plain": [
       "(array([ 120.,  508.,  936., 1276., 1152.,  780.,  384.,  128.,   56.,\n",
       "          12.]),\n",
       " array([15.96 , 19.677, 23.394, 27.111, 30.828, 34.545, 38.262, 41.979,\n",
       "        45.696, 49.413, 53.13 ]),\n",
       " <BarContainer object of 10 artists>)"
      ]
     },
     "execution_count": 19,
     "metadata": {},
     "output_type": "execute_result"
    },
    {
     "data": {
      "image/png": "[encoded data removed]",
      "text/plain": [
       "<Figure size 432x288 with 1 Axes>"
      ]
     },
     "metadata": {
      "needs_background": "light"
     },
     "output_type": "display_data"
    }
   ],
   "source": [
    "plt.hist(data.bmi) # Continuous data"
   ]
  },
  {
   "cell_type": "code",
   "execution_count": 20,
   "id": "0603d610",
   "metadata": {},
   "outputs": [
    {
     "data": {
      "text/plain": [
       "(array([2296.,    0., 1296.,    0.,  960.,    0.,  628.,    0.,  100.,\n",
       "          72.]),\n",
       " array([0. , 0.5, 1. , 1.5, 2. , 2.5, 3. , 3.5, 4. , 4.5, 5. ]),\n",
       " <BarContainer object of 10 artists>)"
      ]
     },
     "execution_count": 20,
     "metadata": {},
     "output_type": "execute_result"
    },
    {
     "data": {
      "image/png": "[encoded data removed]",
      "text/plain": [
       "<Figure size 432x288 with 1 Axes>"
      ]
     },
     "metadata": {
      "needs_background": "light"
     },
     "output_type": "display_data"
    }
   ],
   "source": [
    "plt.hist(data.children) # Discrete data"
   ]
  },
  {
   "cell_type": "markdown",
   "id": "1a095a17",
   "metadata": {},
   "source": [
    "# Analysing and visualising categorical data"
   ]
  },
  {
   "cell_type": "code",
   "execution_count": 21,
   "id": "952638d6",
   "metadata": {},
   "outputs": [
    {
     "data": {
      "text/plain": [
       "1    2704\n",
       "0    2648\n",
       "Name: sex, dtype: int64"
      ]
     },
     "execution_count": 21,
     "metadata": {},
     "output_type": "execute_result"
    }
   ],
   "source": [
    "data.sex.value_counts() # Nominal data"
   ]
  },
  {
   "cell_type": "code",
   "execution_count": 22,
   "id": "2269ff34",
   "metadata": {},
   "outputs": [
    {
     "data": {
      "text/plain": [
       "<seaborn.axisgrid.FacetGrid at 0x7fe0d2bf3580>"
      ]
     },
     "execution_count": 22,
     "metadata": {},
     "output_type": "execute_result"
    },
    {
     "data": {
      "image/png": "[encoded data removed]",
      "text/plain": [
       "<Figure size 360x360 with 1 Axes>"
      ]
     },
     "metadata": {
      "needs_background": "light"
     },
     "output_type": "display_data"
    }
   ],
   "source": [
    "sn.factorplot('sex',data=data,kind='count')"
   ]
  },
  {
   "cell_type": "code",
   "execution_count": 23,
   "id": "d4285120",
   "metadata": {},
   "outputs": [
    {
     "data": {
      "text/plain": [
       "0    4256\n",
       "1    1096\n",
       "Name: smoker, dtype: int64"
      ]
     },
     "execution_count": 23,
     "metadata": {},
     "output_type": "execute_result"
    }
   ],
   "source": [
    "data.smoker.value_counts() # Nominal data"
   ]
  },
  {
   "cell_type": "code",
   "execution_count": 24,
   "id": "6cca79f3",
   "metadata": {},
   "outputs": [
    {
     "data": {
      "text/plain": [
       "<seaborn.axisgrid.FacetGrid at 0x7fe0d2af9d60>"
      ]
     },
     "execution_count": 24,
     "metadata": {},
     "output_type": "execute_result"
    },
    {
     "data": {
      "image/png": "[encoded data removed]",
      "text/plain": [
       "<Figure size 360x360 with 1 Axes>"
      ]
     },
     "metadata": {
      "needs_background": "light"
     },
     "output_type": "display_data"
    }
   ],
   "source": [
    "sn.factorplot('smoker',data=data,kind='count')"
   ]
  },
  {
   "cell_type": "code",
   "execution_count": 25,
   "id": "b3f695ef",
   "metadata": {},
   "outputs": [
    {
     "data": {
      "text/plain": [
       "2    1456\n",
       "1    1300\n",
       "3    1300\n",
       "0    1296\n",
       "Name: region, dtype: int64"
      ]
     },
     "execution_count": 25,
     "metadata": {},
     "output_type": "execute_result"
    }
   ],
   "source": [
    "data.region.value_counts() # Norminal data"
   ]
  },
  {
   "cell_type": "code",
   "execution_count": 26,
   "id": "d828f5f5",
   "metadata": {},
   "outputs": [
    {
     "data": {
      "text/plain": [
       "<seaborn.axisgrid.FacetGrid at 0x7fe0d2f6de50>"
      ]
     },
     "execution_count": 26,
     "metadata": {},
     "output_type": "execute_result"
    },
    {
     "data": {
      "image/png": "[encoded data removed]",
      "text/plain": [
       "<Figure size 360x360 with 1 Axes>"
      ]
     },
     "metadata": {
      "needs_background": "light"
     },
     "output_type": "display_data"
    }
   ],
   "source": [
    "sn.factorplot('region',data=data,kind='count')"
   ]
  },
  {
   "cell_type": "markdown",
   "id": "d2ff5643",
   "metadata": {},
   "source": [
    "# Checking the normality of data\n",
    "###### AGE"
   ]
  },
  {
   "cell_type": "code",
   "execution_count": 27,
   "id": "cec16054",
   "metadata": {},
   "outputs": [
    {
     "name": "stdout",
     "output_type": "stream",
     "text": [
      "Skewness of age:  0.05561008307259913\n",
      "Kurtosis of age:  -1.2449206804584227\n"
     ]
    }
   ],
   "source": [
    "print(\"Skewness of age: \", stats.skew(data.age))\n",
    "print(\"Kurtosis of age: \", stats.kurtosis(data.age))"
   ]
  },
  {
   "cell_type": "markdown",
   "id": "98e62fb1",
   "metadata": {},
   "source": [
    "Age is not normaly distributed as the kurtosis of age is greater than -1."
   ]
  },
  {
   "cell_type": "markdown",
   "id": "a6dd6a4f",
   "metadata": {},
   "source": [
    "###### SEX"
   ]
  },
  {
   "cell_type": "code",
   "execution_count": 28,
   "id": "f32ab9d4",
   "metadata": {},
   "outputs": [
    {
     "name": "stdout",
     "output_type": "stream",
     "text": [
      "Skewness of sex:  -0.0209279020013669\n",
      "Kurtosis of sex:  -1.9995620229178213\n"
     ]
    }
   ],
   "source": [
    "print(\"Skewness of sex: \", stats.skew(data.sex))\n",
    "print(\"Kurtosis of sex: \", stats.kurtosis(data.sex))"
   ]
  },
  {
   "cell_type": "markdown",
   "id": "c4ce4e6b",
   "metadata": {},
   "source": [
    "Sex is not normaly distributed as the kurtosis of sex is greater than -1."
   ]
  },
  {
   "cell_type": "markdown",
   "id": "4c3b51ef",
   "metadata": {},
   "source": [
    "###### BMI"
   ]
  },
  {
   "cell_type": "code",
   "execution_count": 29,
   "id": "c5a1a51f",
   "metadata": {},
   "outputs": [
    {
     "name": "stdout",
     "output_type": "stream",
     "text": [
      "Skewness of bmi:  0.28372857291709386\n",
      "Kurtosis of bmi:  -0.05502310583700032\n"
     ]
    }
   ],
   "source": [
    "print(\"Skewness of bmi: \", stats.skew(data.bmi))\n",
    "print(\"Kurtosis of bmi: \", stats.kurtosis(data.bmi))"
   ]
  },
  {
   "cell_type": "markdown",
   "id": "39a3fa43",
   "metadata": {},
   "source": [
    "BMI is normaly distributed."
   ]
  },
  {
   "cell_type": "markdown",
   "id": "714a8b3f",
   "metadata": {},
   "source": [
    "###### CHILDREN"
   ]
  },
  {
   "cell_type": "code",
   "execution_count": 30,
   "id": "6e5a303e",
   "metadata": {},
   "outputs": [
    {
     "name": "stdout",
     "output_type": "stream",
     "text": [
      "Skewness of children:  0.9373281163874424\n",
      "Kurtosis of children:  0.1972174268623732\n"
     ]
    }
   ],
   "source": [
    "print(\"Skewness of children: \", stats.skew(data.children))\n",
    "print(\"Kurtosis of children: \", stats.kurtosis(data.children))"
   ]
  },
  {
   "cell_type": "markdown",
   "id": "b828ec85",
   "metadata": {},
   "source": [
    "Children is normaly distributed."
   ]
  },
  {
   "cell_type": "markdown",
   "id": "ac103896",
   "metadata": {},
   "source": [
    "###### SMOKER"
   ]
  },
  {
   "cell_type": "code",
   "execution_count": 31,
   "id": "9f8344eb",
   "metadata": {},
   "outputs": [
    {
     "name": "stdout",
     "output_type": "stream",
     "text": [
      "Skewness of smoker:  1.4631235340273212\n",
      "Kurtosis of smoker:  0.14073047582459797\n"
     ]
    }
   ],
   "source": [
    "print(\"Skewness of smoker: \", stats.skew(data.smoker))\n",
    "print(\"Kurtosis of smoker: \", stats.kurtosis(data.smoker))"
   ]
  },
  {
   "cell_type": "markdown",
   "id": "24854e72",
   "metadata": {},
   "source": [
    "Smoker is nomaly distributed."
   ]
  },
  {
   "cell_type": "markdown",
   "id": "27c12408",
   "metadata": {},
   "source": [
    "###### REGION"
   ]
  },
  {
   "cell_type": "code",
   "execution_count": 32,
   "id": "7c2afaa5",
   "metadata": {},
   "outputs": [
    {
     "name": "stdout",
     "output_type": "stream",
     "text": [
      "Skewness of region:  -0.038057781143998944\n",
      "Kurtosis of region:  -1.327226577401974\n"
     ]
    }
   ],
   "source": [
    "print(\"Skewness of region: \", stats.skew(data.region))\n",
    "print(\"Kurtosis of region: \", stats.kurtosis(data.region))"
   ]
  },
  {
   "cell_type": "markdown",
   "id": "d6c24268",
   "metadata": {},
   "source": [
    "Region is not normaly distributed as the kurtosis of region is greater than -1."
   ]
  },
  {
   "cell_type": "markdown",
   "id": "c3da79e8",
   "metadata": {},
   "source": [
    "# Checking the correlation with dependent variable"
   ]
  },
  {
   "cell_type": "code",
   "execution_count": 33,
   "id": "7e1a8867",
   "metadata": {},
   "outputs": [
    {
     "data": {
      "text/plain": [
       "age         0.299008\n",
       "sex         0.057292\n",
       "bmi         0.198341\n",
       "children    0.067998\n",
       "smoker      0.787251\n",
       "region     -0.006208\n",
       "charges     1.000000\n",
       "dtype: float64"
      ]
     },
     "execution_count": 33,
     "metadata": {},
     "output_type": "execute_result"
    }
   ],
   "source": [
    "data.corrwith(data.charges)"
   ]
  },
  {
   "cell_type": "code",
   "execution_count": 34,
   "id": "bb87c4b7",
   "metadata": {},
   "outputs": [
    {
     "data": {
      "text/html": [
       "<div>\n",
       "<style scoped>\n",
       "    .dataframe tbody tr th:only-of-type {\n",
       "        vertical-align: middle;\n",
       "    }\n",
       "\n",
       "    .dataframe tbody tr th {\n",
       "        vertical-align: top;\n",
       "    }\n",
       "\n",
       "    .dataframe thead th {\n",
       "        text-align: right;\n",
       "    }\n",
       "</style>\n",
       "<table border=\"1\" class=\"dataframe\">\n",
       "  <thead>\n",
       "    <tr style=\"text-align: right;\">\n",
       "      <th></th>\n",
       "      <th>age</th>\n",
       "      <th>sex</th>\n",
       "      <th>bmi</th>\n",
       "      <th>children</th>\n",
       "      <th>smoker</th>\n",
       "      <th>region</th>\n",
       "      <th>charges</th>\n",
       "    </tr>\n",
       "  </thead>\n",
       "  <tbody>\n",
       "    <tr>\n",
       "      <th>age</th>\n",
       "      <td>1.000000</td>\n",
       "      <td>-0.020856</td>\n",
       "      <td>0.109272</td>\n",
       "      <td>0.042469</td>\n",
       "      <td>-0.025019</td>\n",
       "      <td>0.002127</td>\n",
       "      <td>0.299008</td>\n",
       "    </tr>\n",
       "    <tr>\n",
       "      <th>sex</th>\n",
       "      <td>-0.020856</td>\n",
       "      <td>1.000000</td>\n",
       "      <td>0.046371</td>\n",
       "      <td>0.017163</td>\n",
       "      <td>0.076185</td>\n",
       "      <td>0.004588</td>\n",
       "      <td>0.057292</td>\n",
       "    </tr>\n",
       "    <tr>\n",
       "      <th>bmi</th>\n",
       "      <td>0.109272</td>\n",
       "      <td>0.046371</td>\n",
       "      <td>1.000000</td>\n",
       "      <td>0.012759</td>\n",
       "      <td>0.003750</td>\n",
       "      <td>0.157566</td>\n",
       "      <td>0.198341</td>\n",
       "    </tr>\n",
       "    <tr>\n",
       "      <th>children</th>\n",
       "      <td>0.042469</td>\n",
       "      <td>0.017163</td>\n",
       "      <td>0.012759</td>\n",
       "      <td>1.000000</td>\n",
       "      <td>0.007673</td>\n",
       "      <td>0.016569</td>\n",
       "      <td>0.067998</td>\n",
       "    </tr>\n",
       "    <tr>\n",
       "      <th>smoker</th>\n",
       "      <td>-0.025019</td>\n",
       "      <td>0.076185</td>\n",
       "      <td>0.003750</td>\n",
       "      <td>0.007673</td>\n",
       "      <td>1.000000</td>\n",
       "      <td>-0.002181</td>\n",
       "      <td>0.787251</td>\n",
       "    </tr>\n",
       "    <tr>\n",
       "      <th>region</th>\n",
       "      <td>0.002127</td>\n",
       "      <td>0.004588</td>\n",
       "      <td>0.157566</td>\n",
       "      <td>0.016569</td>\n",
       "      <td>-0.002181</td>\n",
       "      <td>1.000000</td>\n",
       "      <td>-0.006208</td>\n",
       "    </tr>\n",
       "    <tr>\n",
       "      <th>charges</th>\n",
       "      <td>0.299008</td>\n",
       "      <td>0.057292</td>\n",
       "      <td>0.198341</td>\n",
       "      <td>0.067998</td>\n",
       "      <td>0.787251</td>\n",
       "      <td>-0.006208</td>\n",
       "      <td>1.000000</td>\n",
       "    </tr>\n",
       "  </tbody>\n",
       "</table>\n",
       "</div>"
      ],
      "text/plain": [
       "               age       sex       bmi  children    smoker    region   charges\n",
       "age       1.000000 -0.020856  0.109272  0.042469 -0.025019  0.002127  0.299008\n",
       "sex      -0.020856  1.000000  0.046371  0.017163  0.076185  0.004588  0.057292\n",
       "bmi       0.109272  0.046371  1.000000  0.012759  0.003750  0.157566  0.198341\n",
       "children  0.042469  0.017163  0.012759  1.000000  0.007673  0.016569  0.067998\n",
       "smoker   -0.025019  0.076185  0.003750  0.007673  1.000000 -0.002181  0.787251\n",
       "region    0.002127  0.004588  0.157566  0.016569 -0.002181  1.000000 -0.006208\n",
       "charges   0.299008  0.057292  0.198341  0.067998  0.787251 -0.006208  1.000000"
      ]
     },
     "execution_count": 34,
     "metadata": {},
     "output_type": "execute_result"
    }
   ],
   "source": [
    "data.corr()"
   ]
  },
  {
   "cell_type": "markdown",
   "id": "01e11e07",
   "metadata": {},
   "source": [
    "# Heatmap"
   ]
  },
  {
   "cell_type": "code",
   "execution_count": 35,
   "id": "3e407923",
   "metadata": {},
   "outputs": [
    {
     "data": {
      "text/plain": [
       "<AxesSubplot:>"
      ]
     },
     "execution_count": 35,
     "metadata": {},
     "output_type": "execute_result"
    },
    {
     "data": {
      "image/png": "[encoded data removed]",
      "text/plain": [
       "<Figure size 432x288 with 2 Axes>"
      ]
     },
     "metadata": {
      "needs_background": "light"
     },
     "output_type": "display_data"
    }
   ],
   "source": [
    "corr = data.corr()\n",
    "sn.heatmap(corr, cmap = 'Blues', annot= True)"
   ]
  },
  {
   "cell_type": "markdown",
   "id": "008d4d5f",
   "metadata": {},
   "source": [
    "- Age has weak positive correlation\n",
    "- Sex has weak positive correlation \n",
    "- BMI has weak positive correlation\n",
    "- Children has weak positive correlation\n",
    "- Smoker has strong positive correlation\n",
    "- Region has very weak positive correlation (almost no correlation)"
   ]
  },
  {
   "cell_type": "markdown",
   "id": "00f0756e",
   "metadata": {},
   "source": [
    "# Feature scaling (using min-max scaler)"
   ]
  },
  {
   "cell_type": "code",
   "execution_count": 36,
   "id": "91735816",
   "metadata": {},
   "outputs": [],
   "source": [
    "scaler = MinMaxScaler()\n",
    "data[['age','bmi','sex','children','smoker']]=scaler.fit_transform(data[['age','bmi','sex','children','smoker']])"
   ]
  },
  {
   "cell_type": "code",
   "execution_count": 37,
   "id": "809f3d11",
   "metadata": {},
   "outputs": [
    {
     "data": {
      "text/html": [
       "<div>\n",
       "<style scoped>\n",
       "    .dataframe tbody tr th:only-of-type {\n",
       "        vertical-align: middle;\n",
       "    }\n",
       "\n",
       "    .dataframe tbody tr th {\n",
       "        vertical-align: top;\n",
       "    }\n",
       "\n",
       "    .dataframe thead th {\n",
       "        text-align: right;\n",
       "    }\n",
       "</style>\n",
       "<table border=\"1\" class=\"dataframe\">\n",
       "  <thead>\n",
       "    <tr style=\"text-align: right;\">\n",
       "      <th></th>\n",
       "      <th>age</th>\n",
       "      <th>sex</th>\n",
       "      <th>bmi</th>\n",
       "      <th>children</th>\n",
       "      <th>smoker</th>\n",
       "      <th>region</th>\n",
       "      <th>charges</th>\n",
       "    </tr>\n",
       "  </thead>\n",
       "  <tbody>\n",
       "    <tr>\n",
       "      <th>0</th>\n",
       "      <td>0.021739</td>\n",
       "      <td>0.0</td>\n",
       "      <td>0.321227</td>\n",
       "      <td>0.0</td>\n",
       "      <td>1.0</td>\n",
       "      <td>3</td>\n",
       "      <td>16884.92400</td>\n",
       "    </tr>\n",
       "    <tr>\n",
       "      <th>1</th>\n",
       "      <td>0.000000</td>\n",
       "      <td>1.0</td>\n",
       "      <td>0.479150</td>\n",
       "      <td>0.2</td>\n",
       "      <td>0.0</td>\n",
       "      <td>2</td>\n",
       "      <td>1725.55230</td>\n",
       "    </tr>\n",
       "    <tr>\n",
       "      <th>2</th>\n",
       "      <td>0.217391</td>\n",
       "      <td>1.0</td>\n",
       "      <td>0.458434</td>\n",
       "      <td>0.6</td>\n",
       "      <td>0.0</td>\n",
       "      <td>2</td>\n",
       "      <td>4449.46200</td>\n",
       "    </tr>\n",
       "    <tr>\n",
       "      <th>3</th>\n",
       "      <td>0.326087</td>\n",
       "      <td>1.0</td>\n",
       "      <td>0.181464</td>\n",
       "      <td>0.0</td>\n",
       "      <td>0.0</td>\n",
       "      <td>1</td>\n",
       "      <td>21984.47061</td>\n",
       "    </tr>\n",
       "    <tr>\n",
       "      <th>4</th>\n",
       "      <td>0.304348</td>\n",
       "      <td>1.0</td>\n",
       "      <td>0.347592</td>\n",
       "      <td>0.0</td>\n",
       "      <td>0.0</td>\n",
       "      <td>1</td>\n",
       "      <td>3866.85520</td>\n",
       "    </tr>\n",
       "    <tr>\n",
       "      <th>5</th>\n",
       "      <td>0.282609</td>\n",
       "      <td>0.0</td>\n",
       "      <td>0.263115</td>\n",
       "      <td>0.0</td>\n",
       "      <td>0.0</td>\n",
       "      <td>2</td>\n",
       "      <td>3756.62160</td>\n",
       "    </tr>\n",
       "    <tr>\n",
       "      <th>6</th>\n",
       "      <td>0.608696</td>\n",
       "      <td>0.0</td>\n",
       "      <td>0.470272</td>\n",
       "      <td>0.2</td>\n",
       "      <td>0.0</td>\n",
       "      <td>2</td>\n",
       "      <td>8240.58960</td>\n",
       "    </tr>\n",
       "    <tr>\n",
       "      <th>7</th>\n",
       "      <td>0.413043</td>\n",
       "      <td>0.0</td>\n",
       "      <td>0.316922</td>\n",
       "      <td>0.6</td>\n",
       "      <td>0.0</td>\n",
       "      <td>1</td>\n",
       "      <td>7281.50560</td>\n",
       "    </tr>\n",
       "    <tr>\n",
       "      <th>8</th>\n",
       "      <td>0.413043</td>\n",
       "      <td>1.0</td>\n",
       "      <td>0.373150</td>\n",
       "      <td>0.4</td>\n",
       "      <td>0.0</td>\n",
       "      <td>0</td>\n",
       "      <td>6406.41070</td>\n",
       "    </tr>\n",
       "    <tr>\n",
       "      <th>9</th>\n",
       "      <td>0.913043</td>\n",
       "      <td>0.0</td>\n",
       "      <td>0.265806</td>\n",
       "      <td>0.0</td>\n",
       "      <td>0.0</td>\n",
       "      <td>1</td>\n",
       "      <td>28923.13692</td>\n",
       "    </tr>\n",
       "  </tbody>\n",
       "</table>\n",
       "</div>"
      ],
      "text/plain": [
       "        age  sex       bmi  children  smoker  region      charges\n",
       "0  0.021739  0.0  0.321227       0.0     1.0       3  16884.92400\n",
       "1  0.000000  1.0  0.479150       0.2     0.0       2   1725.55230\n",
       "2  0.217391  1.0  0.458434       0.6     0.0       2   4449.46200\n",
       "3  0.326087  1.0  0.181464       0.0     0.0       1  21984.47061\n",
       "4  0.304348  1.0  0.347592       0.0     0.0       1   3866.85520\n",
       "5  0.282609  0.0  0.263115       0.0     0.0       2   3756.62160\n",
       "6  0.608696  0.0  0.470272       0.2     0.0       2   8240.58960\n",
       "7  0.413043  0.0  0.316922       0.6     0.0       1   7281.50560\n",
       "8  0.413043  1.0  0.373150       0.4     0.0       0   6406.41070\n",
       "9  0.913043  0.0  0.265806       0.0     0.0       1  28923.13692"
      ]
     },
     "execution_count": 37,
     "metadata": {},
     "output_type": "execute_result"
    }
   ],
   "source": [
    "data.head(10)"
   ]
  },
  {
   "cell_type": "markdown",
   "id": "811a7a5b",
   "metadata": {},
   "source": [
    "# Defining independent and dependent"
   ]
  },
  {
   "cell_type": "code",
   "execution_count": 38,
   "id": "6ef377a2",
   "metadata": {},
   "outputs": [],
   "source": [
    "X = data.iloc[:,:-2]\n",
    "y = data.charges"
   ]
  },
  {
   "cell_type": "markdown",
   "id": "4aa15080",
   "metadata": {},
   "source": [
    "## Region Column has been removed as it has low Correlation"
   ]
  },
  {
   "cell_type": "code",
   "execution_count": 39,
   "id": "fe90b924",
   "metadata": {},
   "outputs": [
    {
     "data": {
      "text/html": [
       "<div>\n",
       "<style scoped>\n",
       "    .dataframe tbody tr th:only-of-type {\n",
       "        vertical-align: middle;\n",
       "    }\n",
       "\n",
       "    .dataframe tbody tr th {\n",
       "        vertical-align: top;\n",
       "    }\n",
       "\n",
       "    .dataframe thead th {\n",
       "        text-align: right;\n",
       "    }\n",
       "</style>\n",
       "<table border=\"1\" class=\"dataframe\">\n",
       "  <thead>\n",
       "    <tr style=\"text-align: right;\">\n",
       "      <th></th>\n",
       "      <th>age</th>\n",
       "      <th>sex</th>\n",
       "      <th>bmi</th>\n",
       "      <th>children</th>\n",
       "      <th>smoker</th>\n",
       "    </tr>\n",
       "  </thead>\n",
       "  <tbody>\n",
       "    <tr>\n",
       "      <th>0</th>\n",
       "      <td>0.021739</td>\n",
       "      <td>0.0</td>\n",
       "      <td>0.321227</td>\n",
       "      <td>0.0</td>\n",
       "      <td>1.0</td>\n",
       "    </tr>\n",
       "    <tr>\n",
       "      <th>1</th>\n",
       "      <td>0.000000</td>\n",
       "      <td>1.0</td>\n",
       "      <td>0.479150</td>\n",
       "      <td>0.2</td>\n",
       "      <td>0.0</td>\n",
       "    </tr>\n",
       "    <tr>\n",
       "      <th>2</th>\n",
       "      <td>0.217391</td>\n",
       "      <td>1.0</td>\n",
       "      <td>0.458434</td>\n",
       "      <td>0.6</td>\n",
       "      <td>0.0</td>\n",
       "    </tr>\n",
       "    <tr>\n",
       "      <th>3</th>\n",
       "      <td>0.326087</td>\n",
       "      <td>1.0</td>\n",
       "      <td>0.181464</td>\n",
       "      <td>0.0</td>\n",
       "      <td>0.0</td>\n",
       "    </tr>\n",
       "    <tr>\n",
       "      <th>4</th>\n",
       "      <td>0.304348</td>\n",
       "      <td>1.0</td>\n",
       "      <td>0.347592</td>\n",
       "      <td>0.0</td>\n",
       "      <td>0.0</td>\n",
       "    </tr>\n",
       "    <tr>\n",
       "      <th>...</th>\n",
       "      <td>...</td>\n",
       "      <td>...</td>\n",
       "      <td>...</td>\n",
       "      <td>...</td>\n",
       "      <td>...</td>\n",
       "    </tr>\n",
       "    <tr>\n",
       "      <th>5347</th>\n",
       "      <td>0.695652</td>\n",
       "      <td>1.0</td>\n",
       "      <td>0.403820</td>\n",
       "      <td>0.6</td>\n",
       "      <td>0.0</td>\n",
       "    </tr>\n",
       "    <tr>\n",
       "      <th>5348</th>\n",
       "      <td>0.000000</td>\n",
       "      <td>0.0</td>\n",
       "      <td>0.429379</td>\n",
       "      <td>0.0</td>\n",
       "      <td>0.0</td>\n",
       "    </tr>\n",
       "    <tr>\n",
       "      <th>5349</th>\n",
       "      <td>0.000000</td>\n",
       "      <td>0.0</td>\n",
       "      <td>0.562012</td>\n",
       "      <td>0.0</td>\n",
       "      <td>0.0</td>\n",
       "    </tr>\n",
       "    <tr>\n",
       "      <th>5350</th>\n",
       "      <td>0.065217</td>\n",
       "      <td>0.0</td>\n",
       "      <td>0.264730</td>\n",
       "      <td>0.0</td>\n",
       "      <td>0.0</td>\n",
       "    </tr>\n",
       "    <tr>\n",
       "      <th>5351</th>\n",
       "      <td>0.934783</td>\n",
       "      <td>0.0</td>\n",
       "      <td>0.352704</td>\n",
       "      <td>0.0</td>\n",
       "      <td>1.0</td>\n",
       "    </tr>\n",
       "  </tbody>\n",
       "</table>\n",
       "<p>5352 rows × 5 columns</p>\n",
       "</div>"
      ],
      "text/plain": [
       "           age  sex       bmi  children  smoker\n",
       "0     0.021739  0.0  0.321227       0.0     1.0\n",
       "1     0.000000  1.0  0.479150       0.2     0.0\n",
       "2     0.217391  1.0  0.458434       0.6     0.0\n",
       "3     0.326087  1.0  0.181464       0.0     0.0\n",
       "4     0.304348  1.0  0.347592       0.0     0.0\n",
       "...        ...  ...       ...       ...     ...\n",
       "5347  0.695652  1.0  0.403820       0.6     0.0\n",
       "5348  0.000000  0.0  0.429379       0.0     0.0\n",
       "5349  0.000000  0.0  0.562012       0.0     0.0\n",
       "5350  0.065217  0.0  0.264730       0.0     0.0\n",
       "5351  0.934783  0.0  0.352704       0.0     1.0\n",
       "\n",
       "[5352 rows x 5 columns]"
      ]
     },
     "execution_count": 39,
     "metadata": {},
     "output_type": "execute_result"
    }
   ],
   "source": [
    "X"
   ]
  },
  {
   "cell_type": "code",
   "execution_count": 40,
   "id": "67b20d5b",
   "metadata": {},
   "outputs": [
    {
     "data": {
      "text/plain": [
       "0       16884.92400\n",
       "1        1725.55230\n",
       "2        4449.46200\n",
       "3       21984.47061\n",
       "4        3866.85520\n",
       "           ...     \n",
       "5347    10600.54830\n",
       "5348     2205.98080\n",
       "5349     1629.83350\n",
       "5350     2007.94500\n",
       "5351    29141.36030\n",
       "Name: charges, Length: 5352, dtype: float64"
      ]
     },
     "execution_count": 40,
     "metadata": {},
     "output_type": "execute_result"
    }
   ],
   "source": [
    "y"
   ]
  },
  {
   "cell_type": "markdown",
   "id": "98449dc7",
   "metadata": {},
   "source": [
    "# Spliting the data into training and testing data"
   ]
  },
  {
   "cell_type": "code",
   "execution_count": 41,
   "id": "f557c1ef",
   "metadata": {},
   "outputs": [],
   "source": [
    "x_train, x_test, y_train, y_test = train_test_split( X, y, train_size = 0.6, random_state = 20)"
   ]
  },
  {
   "cell_type": "markdown",
   "id": "135e7c01",
   "metadata": {},
   "source": [
    "# Linear Regression"
   ]
  },
  {
   "cell_type": "code",
   "execution_count": 42,
   "id": "766fde50",
   "metadata": {},
   "outputs": [],
   "source": [
    "model_lr = LinearRegression()"
   ]
  },
  {
   "cell_type": "markdown",
   "id": "6864a306",
   "metadata": {},
   "source": [
    "# Training the model"
   ]
  },
  {
   "cell_type": "code",
   "execution_count": 43,
   "id": "afbe6a61",
   "metadata": {},
   "outputs": [
    {
     "data": {
      "text/plain": [
       "LinearRegression()"
      ]
     },
     "execution_count": 43,
     "metadata": {},
     "output_type": "execute_result"
    }
   ],
   "source": [
    "model_lr.fit(x_train,y_train)"
   ]
  },
  {
   "cell_type": "markdown",
   "id": "c044cfb5",
   "metadata": {},
   "source": [
    "# Testing the model"
   ]
  },
  {
   "cell_type": "code",
   "execution_count": 44,
   "id": "8db0e7a3",
   "metadata": {},
   "outputs": [],
   "source": [
    "y_predict_lr = model_lr.predict(x_test)"
   ]
  },
  {
   "cell_type": "code",
   "execution_count": 45,
   "id": "43980bae",
   "metadata": {},
   "outputs": [
    {
     "data": {
      "text/plain": [
       "0.7468978240254863"
      ]
     },
     "execution_count": 45,
     "metadata": {},
     "output_type": "execute_result"
    }
   ],
   "source": [
    "r2_lr = r2_score(y_test,y_predict_lr)\n",
    "r2_lr"
   ]
  },
  {
   "cell_type": "code",
   "execution_count": 46,
   "id": "c078ac69",
   "metadata": {},
   "outputs": [
    {
     "data": {
      "text/plain": [
       "36943495.38813208"
      ]
     },
     "execution_count": 46,
     "metadata": {},
     "output_type": "execute_result"
    }
   ],
   "source": [
    "mse_lr = mean_squared_error(y_test,y_predict_lr)\n",
    "mse_lr"
   ]
  },
  {
   "cell_type": "markdown",
   "id": "0070919c",
   "metadata": {},
   "source": [
    "# Ridge Regression"
   ]
  },
  {
   "cell_type": "code",
   "execution_count": 47,
   "id": "516c4d56",
   "metadata": {},
   "outputs": [],
   "source": [
    "model_rr = Ridge()"
   ]
  },
  {
   "cell_type": "markdown",
   "id": "dd1a880d",
   "metadata": {},
   "source": [
    "# Training the model"
   ]
  },
  {
   "cell_type": "code",
   "execution_count": 48,
   "id": "7373176c",
   "metadata": {},
   "outputs": [
    {
     "data": {
      "text/plain": [
       "Ridge()"
      ]
     },
     "execution_count": 48,
     "metadata": {},
     "output_type": "execute_result"
    }
   ],
   "source": [
    "model_rr.fit(x_train,y_train)"
   ]
  },
  {
   "cell_type": "markdown",
   "id": "12d12a8b",
   "metadata": {},
   "source": [
    "# Testing the model"
   ]
  },
  {
   "cell_type": "code",
   "execution_count": 49,
   "id": "f3af9635",
   "metadata": {},
   "outputs": [],
   "source": [
    "y_predict_rr = model_rr.predict(x_test)"
   ]
  },
  {
   "cell_type": "code",
   "execution_count": 50,
   "id": "ac889901",
   "metadata": {},
   "outputs": [
    {
     "data": {
      "text/plain": [
       "0.746844874988402"
      ]
     },
     "execution_count": 50,
     "metadata": {},
     "output_type": "execute_result"
    }
   ],
   "source": [
    "r2_rr = r2_score(y_test,y_predict_rr)\n",
    "r2_rr"
   ]
  },
  {
   "cell_type": "code",
   "execution_count": 51,
   "id": "8fabbdea",
   "metadata": {},
   "outputs": [
    {
     "data": {
      "text/plain": [
       "36951223.97639805"
      ]
     },
     "execution_count": 51,
     "metadata": {},
     "output_type": "execute_result"
    }
   ],
   "source": [
    "mse_rr = mean_squared_error(y_test,y_predict_rr)\n",
    "mse_rr"
   ]
  },
  {
   "cell_type": "markdown",
   "id": "06c55c5c",
   "metadata": {},
   "source": [
    "# Lasso Regression"
   ]
  },
  {
   "cell_type": "code",
   "execution_count": 52,
   "id": "fd3b9506",
   "metadata": {},
   "outputs": [],
   "source": [
    "model_ll = Lasso()"
   ]
  },
  {
   "cell_type": "markdown",
   "id": "56f95cf8",
   "metadata": {},
   "source": [
    "# Training the model"
   ]
  },
  {
   "cell_type": "code",
   "execution_count": 53,
   "id": "bac5e310",
   "metadata": {},
   "outputs": [
    {
     "data": {
      "text/plain": [
       "Lasso()"
      ]
     },
     "execution_count": 53,
     "metadata": {},
     "output_type": "execute_result"
    }
   ],
   "source": [
    "model_ll.fit(x_train,y_train)"
   ]
  },
  {
   "cell_type": "markdown",
   "id": "7e90d476",
   "metadata": {},
   "source": [
    "# Testing the model"
   ]
  },
  {
   "cell_type": "code",
   "execution_count": 54,
   "id": "d32167c9",
   "metadata": {},
   "outputs": [],
   "source": [
    "y_predict_ll = model_ll.predict(x_test)"
   ]
  },
  {
   "cell_type": "code",
   "execution_count": 55,
   "id": "7382161b",
   "metadata": {},
   "outputs": [
    {
     "data": {
      "text/plain": [
       "0.7468863889107014"
      ]
     },
     "execution_count": 55,
     "metadata": {},
     "output_type": "execute_result"
    }
   ],
   "source": [
    "r2_ll = r2_score(y_test,y_predict_ll)\n",
    "r2_ll"
   ]
  },
  {
   "cell_type": "code",
   "execution_count": 56,
   "id": "d04cc747",
   "metadata": {},
   "outputs": [
    {
     "data": {
      "text/plain": [
       "36945164.48919252"
      ]
     },
     "execution_count": 56,
     "metadata": {},
     "output_type": "execute_result"
    }
   ],
   "source": [
    "mse_ll = mean_squared_error(y_test,y_predict_ll)\n",
    "mse_ll"
   ]
  },
  {
   "cell_type": "markdown",
   "id": "2b4c9cb7",
   "metadata": {},
   "source": [
    "# SVM"
   ]
  },
  {
   "cell_type": "code",
   "execution_count": 57,
   "id": "25e59125",
   "metadata": {},
   "outputs": [],
   "source": [
    "model_sv = SVR(kernel='rbf')"
   ]
  },
  {
   "cell_type": "markdown",
   "id": "3c4a8627",
   "metadata": {},
   "source": [
    "# Training the model"
   ]
  },
  {
   "cell_type": "code",
   "execution_count": 58,
   "id": "974221d8",
   "metadata": {},
   "outputs": [
    {
     "data": {
      "text/plain": [
       "SVR()"
      ]
     },
     "execution_count": 58,
     "metadata": {},
     "output_type": "execute_result"
    }
   ],
   "source": [
    "model_sv.fit(x_train,y_train)"
   ]
  },
  {
   "cell_type": "markdown",
   "id": "8bfa9f8a",
   "metadata": {},
   "source": [
    "# Testing the model"
   ]
  },
  {
   "cell_type": "code",
   "execution_count": 59,
   "id": "64a6cdd6",
   "metadata": {},
   "outputs": [],
   "source": [
    "y_predict_sv = model_sv.predict(x_test)"
   ]
  },
  {
   "cell_type": "code",
   "execution_count": 60,
   "id": "52ca0adf",
   "metadata": {},
   "outputs": [
    {
     "data": {
      "text/plain": [
       "-0.07379434019340603"
      ]
     },
     "execution_count": 60,
     "metadata": {},
     "output_type": "execute_result"
    }
   ],
   "source": [
    "r2_sv = r2_score(y_test,y_predict_sv)\n",
    "r2_sv"
   ]
  },
  {
   "cell_type": "code",
   "execution_count": 61,
   "id": "541bb880",
   "metadata": {},
   "outputs": [
    {
     "data": {
      "text/plain": [
       "156733999.2317253"
      ]
     },
     "execution_count": 61,
     "metadata": {},
     "output_type": "execute_result"
    }
   ],
   "source": [
    "mse_sv = mean_squared_error(y_test,y_predict_sv)\n",
    "mse_sv"
   ]
  },
  {
   "cell_type": "markdown",
   "id": "5894629e",
   "metadata": {},
   "source": [
    "# Decision Tree"
   ]
  },
  {
   "cell_type": "code",
   "execution_count": 62,
   "id": "46e1eda0",
   "metadata": {},
   "outputs": [],
   "source": [
    "model_dt = DecisionTreeRegressor(random_state=0)"
   ]
  },
  {
   "cell_type": "markdown",
   "id": "9aa26a8e",
   "metadata": {},
   "source": [
    "# Training the model"
   ]
  },
  {
   "cell_type": "code",
   "execution_count": 63,
   "id": "3e55031e",
   "metadata": {},
   "outputs": [
    {
     "data": {
      "text/plain": [
       "DecisionTreeRegressor(random_state=0)"
      ]
     },
     "execution_count": 63,
     "metadata": {},
     "output_type": "execute_result"
    }
   ],
   "source": [
    "model_dt.fit(x_train,y_train)"
   ]
  },
  {
   "cell_type": "markdown",
   "id": "4d8a51ea",
   "metadata": {},
   "source": [
    "# Testing the model"
   ]
  },
  {
   "cell_type": "code",
   "execution_count": 64,
   "id": "8c023f21",
   "metadata": {},
   "outputs": [],
   "source": [
    "y_predict_dt = model_dt.predict(x_test)"
   ]
  },
  {
   "cell_type": "code",
   "execution_count": 65,
   "id": "49969b4c",
   "metadata": {},
   "outputs": [
    {
     "data": {
      "text/plain": [
       "0.97563464163422"
      ]
     },
     "execution_count": 65,
     "metadata": {},
     "output_type": "execute_result"
    }
   ],
   "source": [
    "r2_dt = r2_score(y_test,y_predict_dt)\n",
    "r2_dt"
   ]
  },
  {
   "cell_type": "code",
   "execution_count": 66,
   "id": "923d3f77",
   "metadata": {},
   "outputs": [
    {
     "data": {
      "text/plain": [
       "0.9756118532332044"
      ]
     },
     "execution_count": 66,
     "metadata": {},
     "output_type": "execute_result"
    }
   ],
   "source": [
    "Adj_r2 = 1 - (1-r2_dt) * (len(y)-1)/(len(y)-X.shape[1]-1)\n",
    "Adj_r2"
   ]
  },
  {
   "cell_type": "code",
   "execution_count": 67,
   "id": "57350c06",
   "metadata": {},
   "outputs": [
    {
     "data": {
      "text/plain": [
       "3556435.2655230444"
      ]
     },
     "execution_count": 67,
     "metadata": {},
     "output_type": "execute_result"
    }
   ],
   "source": [
    "mse_dt = mean_squared_error(y_test,y_predict_dt)\n",
    "mse_dt"
   ]
  },
  {
   "cell_type": "markdown",
   "id": "70ad3ed0",
   "metadata": {},
   "source": [
    "# Random Forest"
   ]
  },
  {
   "cell_type": "code",
   "execution_count": 68,
   "id": "3f0fe4d5",
   "metadata": {},
   "outputs": [],
   "source": [
    "model_rf = RandomForestRegressor()"
   ]
  },
  {
   "cell_type": "markdown",
   "id": "9c8bf3df",
   "metadata": {},
   "source": [
    "# Training the model"
   ]
  },
  {
   "cell_type": "code",
   "execution_count": 69,
   "id": "05f6c64c",
   "metadata": {},
   "outputs": [
    {
     "data": {
      "text/plain": [
       "RandomForestRegressor()"
      ]
     },
     "execution_count": 69,
     "metadata": {},
     "output_type": "execute_result"
    }
   ],
   "source": [
    "model_rf.fit(x_train,y_train)"
   ]
  },
  {
   "cell_type": "markdown",
   "id": "79fa300b",
   "metadata": {},
   "source": [
    "# Testing the model"
   ]
  },
  {
   "cell_type": "code",
   "execution_count": 70,
   "id": "19f2e803",
   "metadata": {},
   "outputs": [],
   "source": [
    "y_predict_rf = model_rf.predict(x_test)"
   ]
  },
  {
   "cell_type": "code",
   "execution_count": 71,
   "id": "dd1ac697",
   "metadata": {},
   "outputs": [
    {
     "data": {
      "text/plain": [
       "0.9696445115825983"
      ]
     },
     "execution_count": 71,
     "metadata": {},
     "output_type": "execute_result"
    }
   ],
   "source": [
    "r2_rf = r2_score(y_test,y_predict_rf)\n",
    "r2_rf"
   ]
  },
  {
   "cell_type": "code",
   "execution_count": 72,
   "id": "5c446665",
   "metadata": {},
   "outputs": [
    {
     "data": {
      "text/plain": [
       "0.9696161207404571"
      ]
     },
     "execution_count": 72,
     "metadata": {},
     "output_type": "execute_result"
    }
   ],
   "source": [
    "Adj_r2 = 1 - (1-r2_rf) * (len(y)-1)/(len(y)-X.shape[1]-1)\n",
    "Adj_r2"
   ]
  },
  {
   "cell_type": "code",
   "execution_count": 73,
   "id": "2fe78fa6",
   "metadata": {},
   "outputs": [
    {
     "data": {
      "text/plain": [
       "4430771.256844905"
      ]
     },
     "execution_count": 73,
     "metadata": {},
     "output_type": "execute_result"
    }
   ],
   "source": [
    "mse_rf = mean_squared_error(y_test,y_predict_rf)\n",
    "mse_rf"
   ]
  },
  {
   "cell_type": "markdown",
   "id": "c7e7780b",
   "metadata": {},
   "source": [
    "# Model Evaluation"
   ]
  },
  {
   "cell_type": "code",
   "execution_count": 74,
   "id": "d8a0cf2f",
   "metadata": {},
   "outputs": [],
   "source": [
    "MSE = [mse_lr,mse_rr,mse_ll,mse_sv,mse_dt,mse_rf]\n",
    "R2_Score = [r2_lr,r2_rr,r2_ll,r2_sv,r2_dt,r2_rf]\n",
    "Models = ['Linear Regression', ' Ridge Regression' , ' Lasso Regression', 'Support Vector Machine',\n",
    "          'Decision Tree', 'Random Forest']"
   ]
  },
  {
   "cell_type": "markdown",
   "id": "86b4b54e",
   "metadata": {},
   "source": [
    "# Mean Squared Error Comparison Chart"
   ]
  },
  {
   "cell_type": "code",
   "execution_count": 75,
   "id": "99d3b1a6",
   "metadata": {},
   "outputs": [
    {
     "data": {
      "image/png": "[encoded data removed]",
      "text/plain": [
       "<Figure size 432x288 with 1 Axes>"
      ]
     },
     "metadata": {
      "needs_background": "light"
     },
     "output_type": "display_data"
    }
   ],
   "source": [
    "sn.barplot(MSE, Models, color=\"m\")\n",
    "plt.xlabel('MSE')\n",
    "plt.title('Mean Squared Error')\n",
    "plt.show()"
   ]
  },
  {
   "cell_type": "markdown",
   "id": "34b4331b",
   "metadata": {},
   "source": [
    "# R2 Score Comparison Chart"
   ]
  },
  {
   "cell_type": "code",
   "execution_count": 76,
   "id": "a6b782db",
   "metadata": {},
   "outputs": [
    {
     "data": {
      "image/png": "[encoded data removed]",
      "text/plain": [
       "<Figure size 432x288 with 1 Axes>"
      ]
     },
     "metadata": {
      "needs_background": "light"
     },
     "output_type": "display_data"
    }
   ],
   "source": [
    "sn.barplot(R2_Score, Models, color=\"c\")\n",
    "plt.xlabel('R2 Score')\n",
    "plt.title('R2 Score')\n",
    "plt.show()"
   ]
  },
  {
   "cell_type": "markdown",
   "id": "20ea9bf5",
   "metadata": {},
   "source": [
    "#### From the charts it can be seen that the Mean Squared Error is lowest for decision tree and the R2 Score is highest for decision tree. Therefore, we can conclude that decision tree is the best algorithm for this data. "
   ]
  },
  {
   "cell_type": "markdown",
   "id": "12cefa09",
   "metadata": {},
   "source": [
    "# Hyperparameter Tuning (using grid search)"
   ]
  },
  {
   "cell_type": "code",
   "execution_count": 77,
   "id": "0ac0f293",
   "metadata": {},
   "outputs": [
    {
     "name": "stdout",
     "output_type": "stream",
     "text": [
      "Fitting 5 folds for each of 288 candidates, totalling 1440 fits\n"
     ]
    },
    {
     "data": {
      "text/plain": [
       "GridSearchCV(cv=5, estimator=DecisionTreeRegressor(random_state=0),\n",
       "             param_grid={'max_depth': [10, 30, 50, 70, 90, 110, 150, 200],\n",
       "                         'max_features': ['int', 'float', 'auto', 'sqrt',\n",
       "                                          'log2', 'None'],\n",
       "                         'random_state': [0, 1, 10, 14, 20, 27]},\n",
       "             verbose=1)"
      ]
     },
     "execution_count": 77,
     "metadata": {},
     "output_type": "execute_result"
    }
   ],
   "source": [
    "parameters = {'max_depth':[10,30,50,70,90,110,150,200],\n",
    "              'random_state': [0,1,10,14,20,27],\n",
    "              'max_features':['int','float','auto','sqrt','log2','None']}\n",
    "\n",
    "grid = GridSearchCV(model_dt,parameters,cv=5,verbose=1)\n",
    "grid.fit(X,y)"
   ]
  },
  {
   "cell_type": "code",
   "execution_count": 78,
   "id": "229ce2e8",
   "metadata": {},
   "outputs": [
    {
     "data": {
      "text/plain": [
       "0.9985634417325351"
      ]
     },
     "execution_count": 78,
     "metadata": {},
     "output_type": "execute_result"
    }
   ],
   "source": [
    "grid.best_score_"
   ]
  },
  {
   "cell_type": "code",
   "execution_count": 79,
   "id": "8050adb2",
   "metadata": {},
   "outputs": [
    {
     "data": {
      "text/plain": [
       "{'max_depth': 30, 'max_features': 'auto', 'random_state': 0}"
      ]
     },
     "execution_count": 79,
     "metadata": {},
     "output_type": "execute_result"
    }
   ],
   "source": [
    "grid.best_params_"
   ]
  },
  {
   "cell_type": "markdown",
   "id": "b4507fad",
   "metadata": {},
   "source": [
    "# Hyperparameter Tuning (using randomized search)"
   ]
  },
  {
   "cell_type": "code",
   "execution_count": 101,
   "id": "a09750d0",
   "metadata": {},
   "outputs": [
    {
     "data": {
      "text/plain": [
       "RandomizedSearchCV(cv=5,\n",
       "                   estimator=DecisionTreeRegressor(max_depth=35,\n",
       "                                                   max_features='sqrt',\n",
       "                                                   random_state=1),\n",
       "                   param_distributions={'max_depth': [25, 30, 35],\n",
       "                                        'max_features': ['int', 'float', 'sqrt',\n",
       "                                                         'None'],\n",
       "                                        'random_state': [0, 1, 2, 3, 4]})"
      ]
     },
     "execution_count": 101,
     "metadata": {},
     "output_type": "execute_result"
    }
   ],
   "source": [
    "parameters = {'max_depth':[25,30,35],\n",
    "              'random_state':[0,1,2,3,4],\n",
    "              'max_features':['int','float','sqrt','None','auto','log2']}\n",
    "grid = RandomizedSearchCV(model_dt,parameters,cv=5)\n",
    "grid.fit(X,y)"
   ]
  },
  {
   "cell_type": "code",
   "execution_count": 102,
   "id": "9290a3c8",
   "metadata": {},
   "outputs": [
    {
     "data": {
      "text/plain": [
       "0.9985634417325351"
      ]
     },
     "execution_count": 102,
     "metadata": {},
     "output_type": "execute_result"
    }
   ],
   "source": [
    "grid.best_score_"
   ]
  },
  {
   "cell_type": "code",
   "execution_count": 103,
   "id": "004d14e8",
   "metadata": {},
   "outputs": [
    {
     "data": {
      "text/plain": [
       "{'random_state': 1, 'max_features': 'sqrt', 'max_depth': 30}"
      ]
     },
     "execution_count": 103,
     "metadata": {},
     "output_type": "execute_result"
    }
   ],
   "source": [
    "grid.best_params_"
   ]
  },
  {
   "cell_type": "markdown",
   "id": "2caeb1f1",
   "metadata": {},
   "source": [
    "# Training Decision Tree with best parameters"
   ]
  },
  {
   "cell_type": "code",
   "execution_count": 83,
   "id": "d84dcd23",
   "metadata": {},
   "outputs": [
    {
     "data": {
      "text/plain": [
       "DecisionTreeRegressor(max_depth=35, max_features='sqrt', random_state=1)"
      ]
     },
     "execution_count": 83,
     "metadata": {},
     "output_type": "execute_result"
    }
   ],
   "source": [
    "model_dt = DecisionTreeRegressor(max_depth=35,max_features='sqrt',random_state=1)\n",
    "model_dt.fit(x_train,y_train)"
   ]
  },
  {
   "cell_type": "markdown",
   "id": "f7044a38",
   "metadata": {},
   "source": [
    "# Testing Decision Tree with best parameters"
   ]
  },
  {
   "cell_type": "code",
   "execution_count": 84,
   "id": "cab25544",
   "metadata": {},
   "outputs": [],
   "source": [
    "y_predict_dt = model_dt.predict(x_test)"
   ]
  },
  {
   "cell_type": "code",
   "execution_count": 85,
   "id": "7ed8688d",
   "metadata": {},
   "outputs": [
    {
     "data": {
      "text/plain": [
       "0.9840085608961938"
      ]
     },
     "execution_count": 85,
     "metadata": {},
     "output_type": "execute_result"
    }
   ],
   "source": [
    "r2_dt = r2_score(y_test,y_predict_dt)\n",
    "r2_dt"
   ]
  },
  {
   "cell_type": "code",
   "execution_count": 86,
   "id": "2044e8bd",
   "metadata": {},
   "outputs": [
    {
     "data": {
      "text/plain": [
       "0.9839936044436088"
      ]
     },
     "execution_count": 86,
     "metadata": {},
     "output_type": "execute_result"
    }
   ],
   "source": [
    "Adj_r2 = 1 - (1-r2_dt) * (len(y)-1)/(len(y)-X.shape[1]-1)\n",
    "Adj_r2"
   ]
  },
  {
   "cell_type": "markdown",
   "id": "c778c406",
   "metadata": {},
   "source": [
    "#### Adjusted R2 score is less than the R2 score"
   ]
  },
  {
   "cell_type": "markdown",
   "id": "c1174fc5",
   "metadata": {},
   "source": [
    "# K-Fold cross-validation"
   ]
  },
  {
   "cell_type": "code",
   "execution_count": 87,
   "id": "3b5f0c7e",
   "metadata": {},
   "outputs": [],
   "source": [
    "scores =cross_val_score(model_dt,X,y,cv=5)"
   ]
  },
  {
   "cell_type": "code",
   "execution_count": 88,
   "id": "0079421c",
   "metadata": {},
   "outputs": [
    {
     "data": {
      "text/plain": [
       "array([0.99831954, 0.9983294 , 0.99833215, 0.99894158, 0.99889453])"
      ]
     },
     "execution_count": 88,
     "metadata": {},
     "output_type": "execute_result"
    }
   ],
   "source": [
    "scores"
   ]
  },
  {
   "cell_type": "code",
   "execution_count": 89,
   "id": "55986de4",
   "metadata": {},
   "outputs": [
    {
     "data": {
      "text/plain": [
       "0.9985634417325351"
      ]
     },
     "execution_count": 89,
     "metadata": {},
     "output_type": "execute_result"
    }
   ],
   "source": [
    "scores.mean()"
   ]
  },
  {
   "cell_type": "code",
   "execution_count": 90,
   "id": "07b3ebce",
   "metadata": {},
   "outputs": [
    {
     "data": {
      "text/plain": [
       "0.00028995554056619293"
      ]
     },
     "execution_count": 90,
     "metadata": {},
     "output_type": "execute_result"
    }
   ],
   "source": [
    "scores.std() # Standard Deviation is less than 0.05"
   ]
  },
  {
   "cell_type": "markdown",
   "id": "eeb1c9ad",
   "metadata": {},
   "source": [
    "# Visualising the tree"
   ]
  },
  {
   "cell_type": "code",
   "execution_count": 91,
   "id": "f42c8ef6",
   "metadata": {},
   "outputs": [],
   "source": [
    "from sklearn import tree"
   ]
  },
  {
   "cell_type": "code",
   "execution_count": 92,
   "id": "1caa2880",
   "metadata": {},
   "outputs": [
    {
     "name": "stdout",
     "output_type": "stream",
     "text": [
      "Requirement already satisfied: graphviz in /opt/anaconda3/lib/python3.8/site-packages (0.17)\r\n"
     ]
    }
   ],
   "source": [
    "!pip install graphviz"
   ]
  },
  {
   "cell_type": "code",
   "execution_count": 93,
   "id": "aed56534",
   "metadata": {},
   "outputs": [],
   "source": [
    "import graphviz"
   ]
  },
  {
   "cell_type": "code",
   "execution_count": 94,
   "id": "c476210e",
   "metadata": {
    "scrolled": false
   },
   "outputs": [
    {
     "data": {
      "image/svg+xml": [
       "<?xml version=\"1.0\" encoding=\"UTF-8\" standalone=\"no\"?>\n",
       "<!DOCTYPE svg PUBLIC \"-//W3C//DTD SVG 1.1//EN\"\n",
       " \"http://www.w3.org/Graphics/SVG/1.1/DTD/svg11.dtd\">\n",
       "<!-- Generated by graphviz version 2.49.1 (20210923.0004)\n",
       " -->\n",
       "<!-- Title: Tree Pages: 1 -->\n",
       "<svg width=\"2603pt\" height=\"564pt\"\n",
       " viewBox=\"0.00 0.00 2603.00 564.00\" xmlns=\"http://www.w3.org/2000/svg\" xmlns:xlink=\"http://www.w3.org/1999/xlink\">\n",
       "<g id=\"graph0\" class=\"graph\" transform=\"scale(1 1) rotate(0) translate(4 560)\">\n",
       "<title>Tree</title>\n",
       "<polygon fill=\"white\" stroke=\"transparent\" points=\"-4,4 -4,-560 2599,-560 2599,4 -4,4\"/>\n",
       "<!-- 0 -->\n",
       "<g id=\"node1\" class=\"node\">\n",
       "<title>0</title>\n",
       "<path fill=\"#fae7d9\" stroke=\"black\" d=\"M1457,-556C1457,-556 1325,-556 1325,-556 1319,-556 1313,-550 1313,-544 1313,-544 1313,-500 1313,-500 1313,-494 1319,-488 1325,-488 1325,-488 1457,-488 1457,-488 1463,-488 1469,-494 1469,-500 1469,-500 1469,-544 1469,-544 1469,-550 1463,-556 1457,-556\"/>\n",
       "<text text-anchor=\"start\" x=\"1354\" y=\"-540.8\" font-family=\"Helvetica,sans-Serif\" font-size=\"14.00\">age ≤ 0.533</text>\n",
       "<text text-anchor=\"start\" x=\"1321\" y=\"-525.8\" font-family=\"Helvetica,sans-Serif\" font-size=\"14.00\">mse = 146927183.689</text>\n",
       "<text text-anchor=\"start\" x=\"1341.5\" y=\"-510.8\" font-family=\"Helvetica,sans-Serif\" font-size=\"14.00\">samples = 3211</text>\n",
       "<text text-anchor=\"start\" x=\"1333\" y=\"-495.8\" font-family=\"Helvetica,sans-Serif\" font-size=\"14.00\">value = 13300.792</text>\n",
       "</g>\n",
       "<!-- 1 -->\n",
       "<g id=\"node2\" class=\"node\">\n",
       "<title>1</title>\n",
       "<path fill=\"#fbece2\" stroke=\"black\" d=\"M1052.5,-452C1052.5,-452 921.5,-452 921.5,-452 915.5,-452 909.5,-446 909.5,-440 909.5,-440 909.5,-396 909.5,-396 909.5,-390 915.5,-384 921.5,-384 921.5,-384 1052.5,-384 1052.5,-384 1058.5,-384 1064.5,-390 1064.5,-396 1064.5,-396 1064.5,-440 1064.5,-440 1064.5,-446 1058.5,-452 1052.5,-452\"/>\n",
       "<text text-anchor=\"start\" x=\"950\" y=\"-436.8\" font-family=\"Helvetica,sans-Serif\" font-size=\"14.00\">bmi ≤ 0.377</text>\n",
       "<text text-anchor=\"start\" x=\"917.5\" y=\"-421.8\" font-family=\"Helvetica,sans-Serif\" font-size=\"14.00\">mse = 131126485.981</text>\n",
       "<text text-anchor=\"start\" x=\"937\" y=\"-406.8\" font-family=\"Helvetica,sans-Serif\" font-size=\"14.00\">samples = 1825</text>\n",
       "<text text-anchor=\"start\" x=\"929\" y=\"-391.8\" font-family=\"Helvetica,sans-Serif\" font-size=\"14.00\">value = 10357.456</text>\n",
       "</g>\n",
       "<!-- 0&#45;&gt;1 -->\n",
       "<g id=\"edge1\" class=\"edge\">\n",
       "<title>0&#45;&gt;1</title>\n",
       "<path fill=\"none\" stroke=\"black\" d=\"M1312.63,-501.21C1244.36,-483.98 1145.48,-459.01 1074.62,-441.12\"/>\n",
       "<polygon fill=\"black\" stroke=\"black\" points=\"1075.37,-437.7 1064.81,-438.65 1073.65,-444.49 1075.37,-437.7\"/>\n",
       "<text text-anchor=\"middle\" x=\"1077.63\" y=\"-456.41\" font-family=\"Helvetica,sans-Serif\" font-size=\"14.00\">True</text>\n",
       "</g>\n",
       "<!-- 1472 -->\n",
       "<g id=\"node33\" class=\"node\">\n",
       "<title>1472</title>\n",
       "<path fill=\"#f8dfcc\" stroke=\"black\" d=\"M1696,-452C1696,-452 1564,-452 1564,-452 1558,-452 1552,-446 1552,-440 1552,-440 1552,-396 1552,-396 1552,-390 1558,-384 1564,-384 1564,-384 1696,-384 1696,-384 1702,-384 1708,-390 1708,-396 1708,-396 1708,-440 1708,-440 1708,-446 1702,-452 1696,-452\"/>\n",
       "<text text-anchor=\"start\" x=\"1589.5\" y=\"-436.8\" font-family=\"Helvetica,sans-Serif\" font-size=\"14.00\">smoker ≤ 0.5</text>\n",
       "<text text-anchor=\"start\" x=\"1560\" y=\"-421.8\" font-family=\"Helvetica,sans-Serif\" font-size=\"14.00\">mse = 141305072.352</text>\n",
       "<text text-anchor=\"start\" x=\"1580\" y=\"-406.8\" font-family=\"Helvetica,sans-Serif\" font-size=\"14.00\">samples = 1386</text>\n",
       "<text text-anchor=\"start\" x=\"1572\" y=\"-391.8\" font-family=\"Helvetica,sans-Serif\" font-size=\"14.00\">value = 17176.395</text>\n",
       "</g>\n",
       "<!-- 0&#45;&gt;1472 -->\n",
       "<g id=\"edge32\" class=\"edge\">\n",
       "<title>0&#45;&gt;1472</title>\n",
       "<path fill=\"none\" stroke=\"black\" d=\"M1468.6,-487.88C1492.41,-477.72 1518.76,-466.48 1543.14,-456.07\"/>\n",
       "<polygon fill=\"black\" stroke=\"black\" points=\"1544.56,-459.27 1552.38,-452.12 1541.81,-452.83 1544.56,-459.27\"/>\n",
       "<text text-anchor=\"middle\" x=\"1543.06\" y=\"-471.62\" font-family=\"Helvetica,sans-Serif\" font-size=\"14.00\">False</text>\n",
       "</g>\n",
       "<!-- 2 -->\n",
       "<g id=\"node3\" class=\"node\">\n",
       "<title>2</title>\n",
       "<path fill=\"#fcf1e9\" stroke=\"black\" d=\"M551,-348C551,-348 427,-348 427,-348 421,-348 415,-342 415,-336 415,-336 415,-292 415,-292 415,-286 421,-280 427,-280 427,-280 551,-280 551,-280 557,-280 563,-286 563,-292 563,-292 563,-336 563,-336 563,-342 557,-348 551,-348\"/>\n",
       "<text text-anchor=\"start\" x=\"452\" y=\"-332.8\" font-family=\"Helvetica,sans-Serif\" font-size=\"14.00\">age ≤ 0.185</text>\n",
       "<text text-anchor=\"start\" x=\"423\" y=\"-317.8\" font-family=\"Helvetica,sans-Serif\" font-size=\"14.00\">mse = 49484262.967</text>\n",
       "<text text-anchor=\"start\" x=\"443\" y=\"-302.8\" font-family=\"Helvetica,sans-Serif\" font-size=\"14.00\">samples = 919</text>\n",
       "<text text-anchor=\"start\" x=\"435\" y=\"-287.8\" font-family=\"Helvetica,sans-Serif\" font-size=\"14.00\">value = 8076.691</text>\n",
       "</g>\n",
       "<!-- 1&#45;&gt;2 -->\n",
       "<g id=\"edge2\" class=\"edge\">\n",
       "<title>1&#45;&gt;2</title>\n",
       "<path fill=\"none\" stroke=\"black\" d=\"M909.46,-401.12C818.2,-382.43 667.19,-351.5 573.15,-332.24\"/>\n",
       "<polygon fill=\"black\" stroke=\"black\" points=\"573.6,-328.76 563.1,-330.18 572.2,-335.61 573.6,-328.76\"/>\n",
       "</g>\n",
       "<!-- 751 -->\n",
       "<g id=\"node18\" class=\"node\">\n",
       "<title>751</title>\n",
       "<path fill=\"#fae8da\" stroke=\"black\" d=\"M1052.5,-348C1052.5,-348 921.5,-348 921.5,-348 915.5,-348 909.5,-342 909.5,-336 909.5,-336 909.5,-292 909.5,-292 909.5,-286 915.5,-280 921.5,-280 921.5,-280 1052.5,-280 1052.5,-280 1058.5,-280 1064.5,-286 1064.5,-292 1064.5,-292 1064.5,-336 1064.5,-336 1064.5,-342 1058.5,-348 1052.5,-348\"/>\n",
       "<text text-anchor=\"start\" x=\"946.5\" y=\"-332.8\" font-family=\"Helvetica,sans-Serif\" font-size=\"14.00\">smoker ≤ 0.5</text>\n",
       "<text text-anchor=\"start\" x=\"917.5\" y=\"-317.8\" font-family=\"Helvetica,sans-Serif\" font-size=\"14.00\">mse = 203311397.528</text>\n",
       "<text text-anchor=\"start\" x=\"941\" y=\"-302.8\" font-family=\"Helvetica,sans-Serif\" font-size=\"14.00\">samples = 906</text>\n",
       "<text text-anchor=\"start\" x=\"929\" y=\"-287.8\" font-family=\"Helvetica,sans-Serif\" font-size=\"14.00\">value = 12670.948</text>\n",
       "</g>\n",
       "<!-- 1&#45;&gt;751 -->\n",
       "<g id=\"edge17\" class=\"edge\">\n",
       "<title>1&#45;&gt;751</title>\n",
       "<path fill=\"none\" stroke=\"black\" d=\"M987,-383.88C987,-375.78 987,-366.98 987,-358.47\"/>\n",
       "<polygon fill=\"black\" stroke=\"black\" points=\"990.5,-358.3 987,-348.3 983.5,-358.3 990.5,-358.3\"/>\n",
       "</g>\n",
       "<!-- 3 -->\n",
       "<g id=\"node4\" class=\"node\">\n",
       "<title>3</title>\n",
       "<path fill=\"#fdf4ee\" stroke=\"black\" d=\"M302,-244C302,-244 178,-244 178,-244 172,-244 166,-238 166,-232 166,-232 166,-188 166,-188 166,-182 172,-176 178,-176 178,-176 302,-176 302,-176 308,-176 314,-182 314,-188 314,-188 314,-232 314,-232 314,-238 308,-244 302,-244\"/>\n",
       "<text text-anchor=\"start\" x=\"203\" y=\"-228.8\" font-family=\"Helvetica,sans-Serif\" font-size=\"14.00\">bmi ≤ 0.291</text>\n",
       "<text text-anchor=\"start\" x=\"174\" y=\"-213.8\" font-family=\"Helvetica,sans-Serif\" font-size=\"14.00\">mse = 48040996.446</text>\n",
       "<text text-anchor=\"start\" x=\"194\" y=\"-198.8\" font-family=\"Helvetica,sans-Serif\" font-size=\"14.00\">samples = 421</text>\n",
       "<text text-anchor=\"start\" x=\"186\" y=\"-183.8\" font-family=\"Helvetica,sans-Serif\" font-size=\"14.00\">value = 6420.829</text>\n",
       "</g>\n",
       "<!-- 2&#45;&gt;3 -->\n",
       "<g id=\"edge3\" class=\"edge\">\n",
       "<title>2&#45;&gt;3</title>\n",
       "<path fill=\"none\" stroke=\"black\" d=\"M414.97,-282.67C386.25,-270.91 353.22,-257.38 323.65,-245.27\"/>\n",
       "<polygon fill=\"black\" stroke=\"black\" points=\"324.76,-241.94 314.18,-241.39 322.11,-248.42 324.76,-241.94\"/>\n",
       "</g>\n",
       "<!-- 336 -->\n",
       "<g id=\"node11\" class=\"node\">\n",
       "<title>336</title>\n",
       "<path fill=\"#fceee5\" stroke=\"black\" d=\"M551,-244C551,-244 427,-244 427,-244 421,-244 415,-238 415,-232 415,-232 415,-188 415,-188 415,-182 421,-176 427,-176 427,-176 551,-176 551,-176 557,-176 563,-182 563,-188 563,-188 563,-232 563,-232 563,-238 557,-244 551,-244\"/>\n",
       "<text text-anchor=\"start\" x=\"448.5\" y=\"-228.8\" font-family=\"Helvetica,sans-Serif\" font-size=\"14.00\">smoker ≤ 0.5</text>\n",
       "<text text-anchor=\"start\" x=\"423\" y=\"-213.8\" font-family=\"Helvetica,sans-Serif\" font-size=\"14.00\">mse = 46426904.476</text>\n",
       "<text text-anchor=\"start\" x=\"443\" y=\"-198.8\" font-family=\"Helvetica,sans-Serif\" font-size=\"14.00\">samples = 498</text>\n",
       "<text text-anchor=\"start\" x=\"435\" y=\"-183.8\" font-family=\"Helvetica,sans-Serif\" font-size=\"14.00\">value = 9476.525</text>\n",
       "</g>\n",
       "<!-- 2&#45;&gt;336 -->\n",
       "<g id=\"edge10\" class=\"edge\">\n",
       "<title>2&#45;&gt;336</title>\n",
       "<path fill=\"none\" stroke=\"black\" d=\"M489,-279.88C489,-271.78 489,-262.98 489,-254.47\"/>\n",
       "<polygon fill=\"black\" stroke=\"black\" points=\"492.5,-254.3 489,-244.3 485.5,-254.3 492.5,-254.3\"/>\n",
       "</g>\n",
       "<!-- 4 -->\n",
       "<g id=\"node5\" class=\"node\">\n",
       "<title>4</title>\n",
       "<path fill=\"#fdf6f2\" stroke=\"black\" d=\"M136,-140C136,-140 12,-140 12,-140 6,-140 0,-134 0,-128 0,-128 0,-84 0,-84 0,-78 6,-72 12,-72 12,-72 136,-72 136,-72 142,-72 148,-78 148,-84 148,-84 148,-128 148,-128 148,-134 142,-140 136,-140\"/>\n",
       "<text text-anchor=\"start\" x=\"33.5\" y=\"-124.8\" font-family=\"Helvetica,sans-Serif\" font-size=\"14.00\">smoker ≤ 0.5</text>\n",
       "<text text-anchor=\"start\" x=\"8\" y=\"-109.8\" font-family=\"Helvetica,sans-Serif\" font-size=\"14.00\">mse = 38984167.848</text>\n",
       "<text text-anchor=\"start\" x=\"28\" y=\"-94.8\" font-family=\"Helvetica,sans-Serif\" font-size=\"14.00\">samples = 263</text>\n",
       "<text text-anchor=\"start\" x=\"20\" y=\"-79.8\" font-family=\"Helvetica,sans-Serif\" font-size=\"14.00\">value = 5360.617</text>\n",
       "</g>\n",
       "<!-- 3&#45;&gt;4 -->\n",
       "<g id=\"edge4\" class=\"edge\">\n",
       "<title>3&#45;&gt;4</title>\n",
       "<path fill=\"none\" stroke=\"black\" d=\"M186.1,-175.88C170.37,-166.21 153.03,-155.56 136.8,-145.59\"/>\n",
       "<polygon fill=\"black\" stroke=\"black\" points=\"138.26,-142.38 127.91,-140.12 134.6,-148.34 138.26,-142.38\"/>\n",
       "</g>\n",
       "<!-- 205 -->\n",
       "<g id=\"node8\" class=\"node\">\n",
       "<title>205</title>\n",
       "<path fill=\"#fcf1e9\" stroke=\"black\" d=\"M302,-140C302,-140 178,-140 178,-140 172,-140 166,-134 166,-128 166,-128 166,-84 166,-84 166,-78 172,-72 178,-72 178,-72 302,-72 302,-72 308,-72 314,-78 314,-84 314,-84 314,-128 314,-128 314,-134 308,-140 302,-140\"/>\n",
       "<text text-anchor=\"start\" x=\"199.5\" y=\"-124.8\" font-family=\"Helvetica,sans-Serif\" font-size=\"14.00\">smoker ≤ 0.5</text>\n",
       "<text text-anchor=\"start\" x=\"174\" y=\"-109.8\" font-family=\"Helvetica,sans-Serif\" font-size=\"14.00\">mse = 58131096.552</text>\n",
       "<text text-anchor=\"start\" x=\"194\" y=\"-94.8\" font-family=\"Helvetica,sans-Serif\" font-size=\"14.00\">samples = 158</text>\n",
       "<text text-anchor=\"start\" x=\"186\" y=\"-79.8\" font-family=\"Helvetica,sans-Serif\" font-size=\"14.00\">value = 8185.613</text>\n",
       "</g>\n",
       "<!-- 3&#45;&gt;205 -->\n",
       "<g id=\"edge7\" class=\"edge\">\n",
       "<title>3&#45;&gt;205</title>\n",
       "<path fill=\"none\" stroke=\"black\" d=\"M240,-175.88C240,-167.78 240,-158.98 240,-150.47\"/>\n",
       "<polygon fill=\"black\" stroke=\"black\" points=\"243.5,-150.3 240,-140.3 236.5,-150.3 243.5,-150.3\"/>\n",
       "</g>\n",
       "<!-- 5 -->\n",
       "<g id=\"node6\" class=\"node\">\n",
       "<title>5</title>\n",
       "<path fill=\"#c0c0c0\" stroke=\"black\" d=\"M53,-36C53,-36 23,-36 23,-36 17,-36 11,-30 11,-24 11,-24 11,-12 11,-12 11,-6 17,0 23,0 23,0 53,0 53,0 59,0 65,-6 65,-12 65,-12 65,-24 65,-24 65,-30 59,-36 53,-36\"/>\n",
       "<text text-anchor=\"middle\" x=\"38\" y=\"-14.3\" font-family=\"Helvetica,sans-Serif\" font-size=\"14.00\">(...)</text>\n",
       "</g>\n",
       "<!-- 4&#45;&gt;5 -->\n",
       "<g id=\"edge5\" class=\"edge\">\n",
       "<title>4&#45;&gt;5</title>\n",
       "<path fill=\"none\" stroke=\"black\" d=\"M60.18,-72C56.54,-63.28 52.64,-53.98 49.16,-45.65\"/>\n",
       "<polygon fill=\"black\" stroke=\"black\" points=\"52.38,-44.28 45.29,-36.4 45.92,-46.98 52.38,-44.28\"/>\n",
       "</g>\n",
       "<!-- 178 -->\n",
       "<g id=\"node7\" class=\"node\">\n",
       "<title>178</title>\n",
       "<path fill=\"#c0c0c0\" stroke=\"black\" d=\"M125,-36C125,-36 95,-36 95,-36 89,-36 83,-30 83,-24 83,-24 83,-12 83,-12 83,-6 89,0 95,0 95,0 125,0 125,0 131,0 137,-6 137,-12 137,-12 137,-24 137,-24 137,-30 131,-36 125,-36\"/>\n",
       "<text text-anchor=\"middle\" x=\"110\" y=\"-14.3\" font-family=\"Helvetica,sans-Serif\" font-size=\"14.00\">(...)</text>\n",
       "</g>\n",
       "<!-- 4&#45;&gt;178 -->\n",
       "<g id=\"edge6\" class=\"edge\">\n",
       "<title>4&#45;&gt;178</title>\n",
       "<path fill=\"none\" stroke=\"black\" d=\"M87.82,-72C91.46,-63.28 95.36,-53.98 98.84,-45.65\"/>\n",
       "<polygon fill=\"black\" stroke=\"black\" points=\"102.08,-46.98 102.71,-36.4 95.62,-44.28 102.08,-46.98\"/>\n",
       "</g>\n",
       "<!-- 206 -->\n",
       "<g id=\"node9\" class=\"node\">\n",
       "<title>206</title>\n",
       "<path fill=\"#c0c0c0\" stroke=\"black\" d=\"M226,-36C226,-36 196,-36 196,-36 190,-36 184,-30 184,-24 184,-24 184,-12 184,-12 184,-6 190,0 196,0 196,0 226,0 226,0 232,0 238,-6 238,-12 238,-12 238,-24 238,-24 238,-30 232,-36 226,-36\"/>\n",
       "<text text-anchor=\"middle\" x=\"211\" y=\"-14.3\" font-family=\"Helvetica,sans-Serif\" font-size=\"14.00\">(...)</text>\n",
       "</g>\n",
       "<!-- 205&#45;&gt;206 -->\n",
       "<g id=\"edge8\" class=\"edge\">\n",
       "<title>205&#45;&gt;206</title>\n",
       "<path fill=\"none\" stroke=\"black\" d=\"M228.87,-72C225.96,-63.38 222.87,-54.19 220.08,-45.92\"/>\n",
       "<polygon fill=\"black\" stroke=\"black\" points=\"223.38,-44.76 216.87,-36.4 216.75,-47 223.38,-44.76\"/>\n",
       "</g>\n",
       "<!-- 303 -->\n",
       "<g id=\"node10\" class=\"node\">\n",
       "<title>303</title>\n",
       "<path fill=\"#c0c0c0\" stroke=\"black\" d=\"M298,-36C298,-36 268,-36 268,-36 262,-36 256,-30 256,-24 256,-24 256,-12 256,-12 256,-6 262,0 268,0 268,0 298,0 298,0 304,0 310,-6 310,-12 310,-12 310,-24 310,-24 310,-30 304,-36 298,-36\"/>\n",
       "<text text-anchor=\"middle\" x=\"283\" y=\"-14.3\" font-family=\"Helvetica,sans-Serif\" font-size=\"14.00\">(...)</text>\n",
       "</g>\n",
       "<!-- 205&#45;&gt;303 -->\n",
       "<g id=\"edge9\" class=\"edge\">\n",
       "<title>205&#45;&gt;303</title>\n",
       "<path fill=\"none\" stroke=\"black\" d=\"M256.5,-72C260.91,-63.19 265.61,-53.78 269.81,-45.38\"/>\n",
       "<polygon fill=\"black\" stroke=\"black\" points=\"272.96,-46.91 274.3,-36.4 266.7,-43.78 272.96,-46.91\"/>\n",
       "</g>\n",
       "<!-- 337 -->\n",
       "<g id=\"node12\" class=\"node\">\n",
       "<title>337</title>\n",
       "<path fill=\"#fdf4ee\" stroke=\"black\" d=\"M468,-140C468,-140 344,-140 344,-140 338,-140 332,-134 332,-128 332,-128 332,-84 332,-84 332,-78 338,-72 344,-72 344,-72 468,-72 468,-72 474,-72 480,-78 480,-84 480,-84 480,-128 480,-128 480,-134 474,-140 468,-140\"/>\n",
       "<text text-anchor=\"start\" x=\"364\" y=\"-124.8\" font-family=\"Helvetica,sans-Serif\" font-size=\"14.00\">children ≤ 0.1</text>\n",
       "<text text-anchor=\"start\" x=\"340\" y=\"-109.8\" font-family=\"Helvetica,sans-Serif\" font-size=\"14.00\">mse = 13056269.635</text>\n",
       "<text text-anchor=\"start\" x=\"360\" y=\"-94.8\" font-family=\"Helvetica,sans-Serif\" font-size=\"14.00\">samples = 384</text>\n",
       "<text text-anchor=\"start\" x=\"352\" y=\"-79.8\" font-family=\"Helvetica,sans-Serif\" font-size=\"14.00\">value = 6372.571</text>\n",
       "</g>\n",
       "<!-- 336&#45;&gt;337 -->\n",
       "<g id=\"edge11\" class=\"edge\">\n",
       "<title>336&#45;&gt;337</title>\n",
       "<path fill=\"none\" stroke=\"black\" d=\"M462.05,-175.88C454.88,-167.07 447.04,-157.43 439.55,-148.24\"/>\n",
       "<polygon fill=\"black\" stroke=\"black\" points=\"442.12,-145.85 433.1,-140.3 436.69,-150.26 442.12,-145.85\"/>\n",
       "</g>\n",
       "<!-- 656 -->\n",
       "<g id=\"node15\" class=\"node\">\n",
       "<title>656</title>\n",
       "<path fill=\"#f7d9c4\" stroke=\"black\" d=\"M634,-140C634,-140 510,-140 510,-140 504,-140 498,-134 498,-128 498,-128 498,-84 498,-84 498,-78 504,-72 510,-72 510,-72 634,-72 634,-72 640,-72 646,-78 646,-84 646,-84 646,-128 646,-128 646,-134 640,-140 634,-140\"/>\n",
       "<text text-anchor=\"start\" x=\"535\" y=\"-124.8\" font-family=\"Helvetica,sans-Serif\" font-size=\"14.00\">bmi ≤ 0.051</text>\n",
       "<text text-anchor=\"start\" x=\"506\" y=\"-109.8\" font-family=\"Helvetica,sans-Serif\" font-size=\"14.00\">mse = 17064140.269</text>\n",
       "<text text-anchor=\"start\" x=\"526.5\" y=\"-94.8\" font-family=\"Helvetica,sans-Serif\" font-size=\"14.00\">samples = 114</text>\n",
       "<text text-anchor=\"start\" x=\"514\" y=\"-79.8\" font-family=\"Helvetica,sans-Serif\" font-size=\"14.00\">value = 19931.952</text>\n",
       "</g>\n",
       "<!-- 336&#45;&gt;656 -->\n",
       "<g id=\"edge14\" class=\"edge\">\n",
       "<title>336&#45;&gt;656</title>\n",
       "<path fill=\"none\" stroke=\"black\" d=\"M515.95,-175.88C523.12,-167.07 530.96,-157.43 538.45,-148.24\"/>\n",
       "<polygon fill=\"black\" stroke=\"black\" points=\"541.31,-150.26 544.9,-140.3 535.88,-145.85 541.31,-150.26\"/>\n",
       "</g>\n",
       "<!-- 338 -->\n",
       "<g id=\"node13\" class=\"node\">\n",
       "<title>338</title>\n",
       "<path fill=\"#c0c0c0\" stroke=\"black\" d=\"M396,-36C396,-36 366,-36 366,-36 360,-36 354,-30 354,-24 354,-24 354,-12 354,-12 354,-6 360,0 366,0 366,0 396,0 396,0 402,0 408,-6 408,-12 408,-12 408,-24 408,-24 408,-30 402,-36 396,-36\"/>\n",
       "<text text-anchor=\"middle\" x=\"381\" y=\"-14.3\" font-family=\"Helvetica,sans-Serif\" font-size=\"14.00\">(...)</text>\n",
       "</g>\n",
       "<!-- 337&#45;&gt;338 -->\n",
       "<g id=\"edge12\" class=\"edge\">\n",
       "<title>337&#45;&gt;338</title>\n",
       "<path fill=\"none\" stroke=\"black\" d=\"M396.41,-72C393.93,-63.47 391.29,-54.39 388.91,-46.2\"/>\n",
       "<polygon fill=\"black\" stroke=\"black\" points=\"392.21,-45.03 386.06,-36.4 385.49,-46.98 392.21,-45.03\"/>\n",
       "</g>\n",
       "<!-- 419 -->\n",
       "<g id=\"node14\" class=\"node\">\n",
       "<title>419</title>\n",
       "<path fill=\"#c0c0c0\" stroke=\"black\" d=\"M468,-36C468,-36 438,-36 438,-36 432,-36 426,-30 426,-24 426,-24 426,-12 426,-12 426,-6 432,0 438,0 438,0 468,0 468,0 474,0 480,-6 480,-12 480,-12 480,-24 480,-24 480,-30 474,-36 468,-36\"/>\n",
       "<text text-anchor=\"middle\" x=\"453\" y=\"-14.3\" font-family=\"Helvetica,sans-Serif\" font-size=\"14.00\">(...)</text>\n",
       "</g>\n",
       "<!-- 337&#45;&gt;419 -->\n",
       "<g id=\"edge13\" class=\"edge\">\n",
       "<title>337&#45;&gt;419</title>\n",
       "<path fill=\"none\" stroke=\"black\" d=\"M424.04,-72C428.85,-63.19 433.99,-53.78 438.58,-45.38\"/>\n",
       "<polygon fill=\"black\" stroke=\"black\" points=\"441.76,-46.86 443.49,-36.4 435.62,-43.5 441.76,-46.86\"/>\n",
       "</g>\n",
       "<!-- 657 -->\n",
       "<g id=\"node16\" class=\"node\">\n",
       "<title>657</title>\n",
       "<path fill=\"#c0c0c0\" stroke=\"black\" d=\"M577,-36C577,-36 547,-36 547,-36 541,-36 535,-30 535,-24 535,-24 535,-12 535,-12 535,-6 541,0 547,0 547,0 577,0 577,0 583,0 589,-6 589,-12 589,-12 589,-24 589,-24 589,-30 583,-36 577,-36\"/>\n",
       "<text text-anchor=\"middle\" x=\"562\" y=\"-14.3\" font-family=\"Helvetica,sans-Serif\" font-size=\"14.00\">(...)</text>\n",
       "</g>\n",
       "<!-- 656&#45;&gt;657 -->\n",
       "<g id=\"edge15\" class=\"edge\">\n",
       "<title>656&#45;&gt;657</title>\n",
       "<path fill=\"none\" stroke=\"black\" d=\"M568.16,-72C567.18,-63.56 566.14,-54.59 565.19,-46.47\"/>\n",
       "<polygon fill=\"black\" stroke=\"black\" points=\"568.66,-45.93 564.02,-36.4 561.7,-46.74 568.66,-45.93\"/>\n",
       "</g>\n",
       "<!-- 658 -->\n",
       "<g id=\"node17\" class=\"node\">\n",
       "<title>658</title>\n",
       "<path fill=\"#c0c0c0\" stroke=\"black\" d=\"M649,-36C649,-36 619,-36 619,-36 613,-36 607,-30 607,-24 607,-24 607,-12 607,-12 607,-6 613,0 619,0 619,0 649,0 649,0 655,0 661,-6 661,-12 661,-12 661,-24 661,-24 661,-30 655,-36 649,-36\"/>\n",
       "<text text-anchor=\"middle\" x=\"634\" y=\"-14.3\" font-family=\"Helvetica,sans-Serif\" font-size=\"14.00\">(...)</text>\n",
       "</g>\n",
       "<!-- 656&#45;&gt;658 -->\n",
       "<g id=\"edge16\" class=\"edge\">\n",
       "<title>656&#45;&gt;658</title>\n",
       "<path fill=\"none\" stroke=\"black\" d=\"M595.79,-72C602.35,-62.9 609.36,-53.18 615.57,-44.57\"/>\n",
       "<polygon fill=\"black\" stroke=\"black\" points=\"618.44,-46.56 621.45,-36.4 612.77,-42.47 618.44,-46.56\"/>\n",
       "</g>\n",
       "<!-- 752 -->\n",
       "<g id=\"node19\" class=\"node\">\n",
       "<title>752</title>\n",
       "<path fill=\"#fdf6f1\" stroke=\"black\" d=\"M966,-244C966,-244 842,-244 842,-244 836,-244 830,-238 830,-232 830,-232 830,-188 830,-188 830,-182 836,-176 842,-176 842,-176 966,-176 966,-176 972,-176 978,-182 978,-188 978,-188 978,-232 978,-232 978,-238 972,-244 966,-244\"/>\n",
       "<text text-anchor=\"start\" x=\"867\" y=\"-228.8\" font-family=\"Helvetica,sans-Serif\" font-size=\"14.00\">age ≤ 0.185</text>\n",
       "<text text-anchor=\"start\" x=\"838\" y=\"-213.8\" font-family=\"Helvetica,sans-Serif\" font-size=\"14.00\">mse = 25631780.004</text>\n",
       "<text text-anchor=\"start\" x=\"858\" y=\"-198.8\" font-family=\"Helvetica,sans-Serif\" font-size=\"14.00\">samples = 708</text>\n",
       "<text text-anchor=\"start\" x=\"850\" y=\"-183.8\" font-family=\"Helvetica,sans-Serif\" font-size=\"14.00\">value = 5608.541</text>\n",
       "</g>\n",
       "<!-- 751&#45;&gt;752 -->\n",
       "<g id=\"edge18\" class=\"edge\">\n",
       "<title>751&#45;&gt;752</title>\n",
       "<path fill=\"none\" stroke=\"black\" d=\"M960.05,-279.88C952.88,-271.07 945.04,-261.43 937.55,-252.24\"/>\n",
       "<polygon fill=\"black\" stroke=\"black\" points=\"940.12,-249.85 931.1,-244.3 934.69,-254.26 940.12,-249.85\"/>\n",
       "</g>\n",
       "<!-- 1315 -->\n",
       "<g id=\"node26\" class=\"node\">\n",
       "<title>1315</title>\n",
       "<path fill=\"#f0b58b\" stroke=\"black\" d=\"M1132,-244C1132,-244 1008,-244 1008,-244 1002,-244 996,-238 996,-232 996,-232 996,-188 996,-188 996,-182 1002,-176 1008,-176 1008,-176 1132,-176 1132,-176 1138,-176 1144,-182 1144,-188 1144,-188 1144,-232 1144,-232 1144,-238 1138,-244 1132,-244\"/>\n",
       "<text text-anchor=\"start\" x=\"1033.5\" y=\"-228.8\" font-family=\"Helvetica,sans-Serif\" font-size=\"14.00\">age ≤ 0.511</text>\n",
       "<text text-anchor=\"start\" x=\"1004\" y=\"-213.8\" font-family=\"Helvetica,sans-Serif\" font-size=\"14.00\">mse = 22563269.755</text>\n",
       "<text text-anchor=\"start\" x=\"1024\" y=\"-198.8\" font-family=\"Helvetica,sans-Serif\" font-size=\"14.00\">samples = 198</text>\n",
       "<text text-anchor=\"start\" x=\"1012\" y=\"-183.8\" font-family=\"Helvetica,sans-Serif\" font-size=\"14.00\">value = 37924.407</text>\n",
       "</g>\n",
       "<!-- 751&#45;&gt;1315 -->\n",
       "<g id=\"edge25\" class=\"edge\">\n",
       "<title>751&#45;&gt;1315</title>\n",
       "<path fill=\"none\" stroke=\"black\" d=\"M1013.95,-279.88C1021.12,-271.07 1028.96,-261.43 1036.45,-252.24\"/>\n",
       "<polygon fill=\"black\" stroke=\"black\" points=\"1039.31,-254.26 1042.9,-244.3 1033.88,-249.85 1039.31,-254.26\"/>\n",
       "</g>\n",
       "<!-- 753 -->\n",
       "<g id=\"node20\" class=\"node\">\n",
       "<title>753</title>\n",
       "<path fill=\"#fef9f6\" stroke=\"black\" d=\"M800,-140C800,-140 676,-140 676,-140 670,-140 664,-134 664,-128 664,-128 664,-84 664,-84 664,-78 670,-72 676,-72 676,-72 800,-72 800,-72 806,-72 812,-78 812,-84 812,-84 812,-128 812,-128 812,-134 806,-140 800,-140\"/>\n",
       "<text text-anchor=\"start\" x=\"709.5\" y=\"-124.8\" font-family=\"Helvetica,sans-Serif\" font-size=\"14.00\">sex ≤ 0.5</text>\n",
       "<text text-anchor=\"start\" x=\"672\" y=\"-109.8\" font-family=\"Helvetica,sans-Serif\" font-size=\"14.00\">mse = 27620993.678</text>\n",
       "<text text-anchor=\"start\" x=\"692\" y=\"-94.8\" font-family=\"Helvetica,sans-Serif\" font-size=\"14.00\">samples = 308</text>\n",
       "<text text-anchor=\"start\" x=\"684\" y=\"-79.8\" font-family=\"Helvetica,sans-Serif\" font-size=\"14.00\">value = 3976.527</text>\n",
       "</g>\n",
       "<!-- 752&#45;&gt;753 -->\n",
       "<g id=\"edge19\" class=\"edge\">\n",
       "<title>752&#45;&gt;753</title>\n",
       "<path fill=\"none\" stroke=\"black\" d=\"M850.1,-175.88C834.37,-166.21 817.03,-155.56 800.8,-145.59\"/>\n",
       "<polygon fill=\"black\" stroke=\"black\" points=\"802.26,-142.38 791.91,-140.12 798.6,-148.34 802.26,-142.38\"/>\n",
       "</g>\n",
       "<!-- 998 -->\n",
       "<g id=\"node23\" class=\"node\">\n",
       "<title>998</title>\n",
       "<path fill=\"#fdf3ed\" stroke=\"black\" d=\"M966,-140C966,-140 842,-140 842,-140 836,-140 830,-134 830,-128 830,-128 830,-84 830,-84 830,-78 836,-72 842,-72 842,-72 966,-72 966,-72 972,-72 978,-78 978,-84 978,-84 978,-128 978,-128 978,-134 972,-140 966,-140\"/>\n",
       "<text text-anchor=\"start\" x=\"862\" y=\"-124.8\" font-family=\"Helvetica,sans-Serif\" font-size=\"14.00\">children ≤ 0.1</text>\n",
       "<text text-anchor=\"start\" x=\"838\" y=\"-109.8\" font-family=\"Helvetica,sans-Serif\" font-size=\"14.00\">mse = 20470045.181</text>\n",
       "<text text-anchor=\"start\" x=\"858\" y=\"-94.8\" font-family=\"Helvetica,sans-Serif\" font-size=\"14.00\">samples = 400</text>\n",
       "<text text-anchor=\"start\" x=\"850\" y=\"-79.8\" font-family=\"Helvetica,sans-Serif\" font-size=\"14.00\">value = 6865.191</text>\n",
       "</g>\n",
       "<!-- 752&#45;&gt;998 -->\n",
       "<g id=\"edge22\" class=\"edge\">\n",
       "<title>752&#45;&gt;998</title>\n",
       "<path fill=\"none\" stroke=\"black\" d=\"M904,-175.88C904,-167.78 904,-158.98 904,-150.47\"/>\n",
       "<polygon fill=\"black\" stroke=\"black\" points=\"907.5,-150.3 904,-140.3 900.5,-150.3 907.5,-150.3\"/>\n",
       "</g>\n",
       "<!-- 754 -->\n",
       "<g id=\"node21\" class=\"node\">\n",
       "<title>754</title>\n",
       "<path fill=\"#c0c0c0\" stroke=\"black\" d=\"M729,-36C729,-36 699,-36 699,-36 693,-36 687,-30 687,-24 687,-24 687,-12 687,-12 687,-6 693,0 699,0 699,0 729,0 729,0 735,0 741,-6 741,-12 741,-12 741,-24 741,-24 741,-30 735,-36 729,-36\"/>\n",
       "<text text-anchor=\"middle\" x=\"714\" y=\"-14.3\" font-family=\"Helvetica,sans-Serif\" font-size=\"14.00\">(...)</text>\n",
       "</g>\n",
       "<!-- 753&#45;&gt;754 -->\n",
       "<g id=\"edge20\" class=\"edge\">\n",
       "<title>753&#45;&gt;754</title>\n",
       "<path fill=\"none\" stroke=\"black\" d=\"M728.79,-72C726.41,-63.47 723.88,-54.39 721.59,-46.2\"/>\n",
       "<polygon fill=\"black\" stroke=\"black\" points=\"724.92,-45.09 718.86,-36.4 718.17,-46.98 724.92,-45.09\"/>\n",
       "</g>\n",
       "<!-- 881 -->\n",
       "<g id=\"node22\" class=\"node\">\n",
       "<title>881</title>\n",
       "<path fill=\"#c0c0c0\" stroke=\"black\" d=\"M801,-36C801,-36 771,-36 771,-36 765,-36 759,-30 759,-24 759,-24 759,-12 759,-12 759,-6 765,0 771,0 771,0 801,0 801,0 807,0 813,-6 813,-12 813,-12 813,-24 813,-24 813,-30 807,-36 801,-36\"/>\n",
       "<text text-anchor=\"middle\" x=\"786\" y=\"-14.3\" font-family=\"Helvetica,sans-Serif\" font-size=\"14.00\">(...)</text>\n",
       "</g>\n",
       "<!-- 753&#45;&gt;881 -->\n",
       "<g id=\"edge21\" class=\"edge\">\n",
       "<title>753&#45;&gt;881</title>\n",
       "<path fill=\"none\" stroke=\"black\" d=\"M756.42,-72C761.34,-63.19 766.59,-53.78 771.28,-45.38\"/>\n",
       "<polygon fill=\"black\" stroke=\"black\" points=\"774.47,-46.84 776.29,-36.4 768.36,-43.43 774.47,-46.84\"/>\n",
       "</g>\n",
       "<!-- 999 -->\n",
       "<g id=\"node24\" class=\"node\">\n",
       "<title>999</title>\n",
       "<path fill=\"#c0c0c0\" stroke=\"black\" d=\"M877,-36C877,-36 847,-36 847,-36 841,-36 835,-30 835,-24 835,-24 835,-12 835,-12 835,-6 841,0 847,0 847,0 877,0 877,0 883,0 889,-6 889,-12 889,-12 889,-24 889,-24 889,-30 883,-36 877,-36\"/>\n",
       "<text text-anchor=\"middle\" x=\"862\" y=\"-14.3\" font-family=\"Helvetica,sans-Serif\" font-size=\"14.00\">(...)</text>\n",
       "</g>\n",
       "<!-- 998&#45;&gt;999 -->\n",
       "<g id=\"edge23\" class=\"edge\">\n",
       "<title>998&#45;&gt;999</title>\n",
       "<path fill=\"none\" stroke=\"black\" d=\"M887.88,-72C883.63,-63.28 879.09,-53.98 875.02,-45.65\"/>\n",
       "<polygon fill=\"black\" stroke=\"black\" points=\"878.03,-43.85 870.5,-36.4 871.74,-46.93 878.03,-43.85\"/>\n",
       "</g>\n",
       "<!-- 1080 -->\n",
       "<g id=\"node25\" class=\"node\">\n",
       "<title>1080</title>\n",
       "<path fill=\"#c0c0c0\" stroke=\"black\" d=\"M949,-36C949,-36 919,-36 919,-36 913,-36 907,-30 907,-24 907,-24 907,-12 907,-12 907,-6 913,0 919,0 919,0 949,0 949,0 955,0 961,-6 961,-12 961,-12 961,-24 961,-24 961,-30 955,-36 949,-36\"/>\n",
       "<text text-anchor=\"middle\" x=\"934\" y=\"-14.3\" font-family=\"Helvetica,sans-Serif\" font-size=\"14.00\">(...)</text>\n",
       "</g>\n",
       "<!-- 998&#45;&gt;1080 -->\n",
       "<g id=\"edge24\" class=\"edge\">\n",
       "<title>998&#45;&gt;1080</title>\n",
       "<path fill=\"none\" stroke=\"black\" d=\"M915.51,-72C918.52,-63.38 921.73,-54.19 924.61,-45.92\"/>\n",
       "<polygon fill=\"black\" stroke=\"black\" points=\"927.94,-47 927.93,-36.4 921.33,-44.69 927.94,-47\"/>\n",
       "</g>\n",
       "<!-- 1316 -->\n",
       "<g id=\"node27\" class=\"node\">\n",
       "<title>1316</title>\n",
       "<path fill=\"#f0b48a\" stroke=\"black\" d=\"M1132,-140C1132,-140 1008,-140 1008,-140 1002,-140 996,-134 996,-128 996,-128 996,-84 996,-84 996,-78 1002,-72 1008,-72 1008,-72 1132,-72 1132,-72 1138,-72 1144,-78 1144,-84 1144,-84 1144,-128 1144,-128 1144,-134 1138,-140 1132,-140\"/>\n",
       "<text text-anchor=\"start\" x=\"1033\" y=\"-124.8\" font-family=\"Helvetica,sans-Serif\" font-size=\"14.00\">bmi ≤ 0.523</text>\n",
       "<text text-anchor=\"start\" x=\"1004\" y=\"-109.8\" font-family=\"Helvetica,sans-Serif\" font-size=\"14.00\">mse = 17714297.762</text>\n",
       "<text text-anchor=\"start\" x=\"1024\" y=\"-94.8\" font-family=\"Helvetica,sans-Serif\" font-size=\"14.00\">samples = 193</text>\n",
       "<text text-anchor=\"start\" x=\"1012\" y=\"-79.8\" font-family=\"Helvetica,sans-Serif\" font-size=\"14.00\">value = 38220.518</text>\n",
       "</g>\n",
       "<!-- 1315&#45;&gt;1316 -->\n",
       "<g id=\"edge26\" class=\"edge\">\n",
       "<title>1315&#45;&gt;1316</title>\n",
       "<path fill=\"none\" stroke=\"black\" d=\"M1070,-175.88C1070,-167.78 1070,-158.98 1070,-150.47\"/>\n",
       "<polygon fill=\"black\" stroke=\"black\" points=\"1073.5,-150.3 1070,-140.3 1066.5,-150.3 1073.5,-150.3\"/>\n",
       "</g>\n",
       "<!-- 1469 -->\n",
       "<g id=\"node30\" class=\"node\">\n",
       "<title>1469</title>\n",
       "<path fill=\"#f4ccaf\" stroke=\"black\" d=\"M1298,-140C1298,-140 1174,-140 1174,-140 1168,-140 1162,-134 1162,-128 1162,-128 1162,-84 1162,-84 1162,-78 1168,-72 1174,-72 1174,-72 1298,-72 1298,-72 1304,-72 1310,-78 1310,-84 1310,-84 1310,-128 1310,-128 1310,-134 1304,-140 1298,-140\"/>\n",
       "<text text-anchor=\"start\" x=\"1207.5\" y=\"-124.8\" font-family=\"Helvetica,sans-Serif\" font-size=\"14.00\">sex ≤ 0.5</text>\n",
       "<text text-anchor=\"start\" x=\"1170\" y=\"-109.8\" font-family=\"Helvetica,sans-Serif\" font-size=\"14.00\">mse = 75706317.207</text>\n",
       "<text text-anchor=\"start\" x=\"1198\" y=\"-94.8\" font-family=\"Helvetica,sans-Serif\" font-size=\"14.00\">samples = 5</text>\n",
       "<text text-anchor=\"start\" x=\"1178\" y=\"-79.8\" font-family=\"Helvetica,sans-Serif\" font-size=\"14.00\">value = 26494.501</text>\n",
       "</g>\n",
       "<!-- 1315&#45;&gt;1469 -->\n",
       "<g id=\"edge29\" class=\"edge\">\n",
       "<title>1315&#45;&gt;1469</title>\n",
       "<path fill=\"none\" stroke=\"black\" d=\"M1123.9,-175.88C1139.63,-166.21 1156.97,-155.56 1173.2,-145.59\"/>\n",
       "<polygon fill=\"black\" stroke=\"black\" points=\"1175.4,-148.34 1182.09,-140.12 1171.74,-142.38 1175.4,-148.34\"/>\n",
       "</g>\n",
       "<!-- 1317 -->\n",
       "<g id=\"node28\" class=\"node\">\n",
       "<title>1317</title>\n",
       "<path fill=\"#c0c0c0\" stroke=\"black\" d=\"M1023,-36C1023,-36 993,-36 993,-36 987,-36 981,-30 981,-24 981,-24 981,-12 981,-12 981,-6 987,0 993,0 993,0 1023,0 1023,0 1029,0 1035,-6 1035,-12 1035,-12 1035,-24 1035,-24 1035,-30 1029,-36 1023,-36\"/>\n",
       "<text text-anchor=\"middle\" x=\"1008\" y=\"-14.3\" font-family=\"Helvetica,sans-Serif\" font-size=\"14.00\">(...)</text>\n",
       "</g>\n",
       "<!-- 1316&#45;&gt;1317 -->\n",
       "<g id=\"edge27\" class=\"edge\">\n",
       "<title>1316&#45;&gt;1317</title>\n",
       "<path fill=\"none\" stroke=\"black\" d=\"M1046.21,-72C1039.65,-62.9 1032.64,-53.18 1026.43,-44.57\"/>\n",
       "<polygon fill=\"black\" stroke=\"black\" points=\"1029.23,-42.47 1020.55,-36.4 1023.56,-46.56 1029.23,-42.47\"/>\n",
       "</g>\n",
       "<!-- 1406 -->\n",
       "<g id=\"node29\" class=\"node\">\n",
       "<title>1406</title>\n",
       "<path fill=\"#c0c0c0\" stroke=\"black\" d=\"M1095,-36C1095,-36 1065,-36 1065,-36 1059,-36 1053,-30 1053,-24 1053,-24 1053,-12 1053,-12 1053,-6 1059,0 1065,0 1065,0 1095,0 1095,0 1101,0 1107,-6 1107,-12 1107,-12 1107,-24 1107,-24 1107,-30 1101,-36 1095,-36\"/>\n",
       "<text text-anchor=\"middle\" x=\"1080\" y=\"-14.3\" font-family=\"Helvetica,sans-Serif\" font-size=\"14.00\">(...)</text>\n",
       "</g>\n",
       "<!-- 1316&#45;&gt;1406 -->\n",
       "<g id=\"edge28\" class=\"edge\">\n",
       "<title>1316&#45;&gt;1406</title>\n",
       "<path fill=\"none\" stroke=\"black\" d=\"M1073.84,-72C1074.82,-63.56 1075.86,-54.59 1076.81,-46.47\"/>\n",
       "<polygon fill=\"black\" stroke=\"black\" points=\"1080.3,-46.74 1077.98,-36.4 1073.34,-45.93 1080.3,-46.74\"/>\n",
       "</g>\n",
       "<!-- 1470 -->\n",
       "<g id=\"node31\" class=\"node\">\n",
       "<title>1470</title>\n",
       "<path fill=\"#c0c0c0\" stroke=\"black\" d=\"M1186,-36C1186,-36 1156,-36 1156,-36 1150,-36 1144,-30 1144,-24 1144,-24 1144,-12 1144,-12 1144,-6 1150,0 1156,0 1156,0 1186,0 1186,0 1192,0 1198,-6 1198,-12 1198,-12 1198,-24 1198,-24 1198,-30 1192,-36 1186,-36\"/>\n",
       "<text text-anchor=\"middle\" x=\"1171\" y=\"-14.3\" font-family=\"Helvetica,sans-Serif\" font-size=\"14.00\">(...)</text>\n",
       "</g>\n",
       "<!-- 1469&#45;&gt;1470 -->\n",
       "<g id=\"edge30\" class=\"edge\">\n",
       "<title>1469&#45;&gt;1470</title>\n",
       "<path fill=\"none\" stroke=\"black\" d=\"M1211.06,-72C1204.18,-62.9 1196.83,-53.18 1190.33,-44.57\"/>\n",
       "<polygon fill=\"black\" stroke=\"black\" points=\"1192.98,-42.27 1184.15,-36.4 1187.39,-46.49 1192.98,-42.27\"/>\n",
       "</g>\n",
       "<!-- 1471 -->\n",
       "<g id=\"node32\" class=\"node\">\n",
       "<title>1471</title>\n",
       "<path fill=\"#c0c0c0\" stroke=\"black\" d=\"M1258,-36C1258,-36 1228,-36 1228,-36 1222,-36 1216,-30 1216,-24 1216,-24 1216,-12 1216,-12 1216,-6 1222,0 1228,0 1228,0 1258,0 1258,0 1264,0 1270,-6 1270,-12 1270,-12 1270,-24 1270,-24 1270,-30 1264,-36 1258,-36\"/>\n",
       "<text text-anchor=\"middle\" x=\"1243\" y=\"-14.3\" font-family=\"Helvetica,sans-Serif\" font-size=\"14.00\">(...)</text>\n",
       "</g>\n",
       "<!-- 1469&#45;&gt;1471 -->\n",
       "<g id=\"edge31\" class=\"edge\">\n",
       "<title>1469&#45;&gt;1471</title>\n",
       "<path fill=\"none\" stroke=\"black\" d=\"M1238.69,-72C1239.37,-63.56 1240.1,-54.59 1240.76,-46.47\"/>\n",
       "<polygon fill=\"black\" stroke=\"black\" points=\"1244.26,-46.65 1241.58,-36.4 1237.28,-46.09 1244.26,-46.65\"/>\n",
       "</g>\n",
       "<!-- 1473 -->\n",
       "<g id=\"node34\" class=\"node\">\n",
       "<title>1473</title>\n",
       "<path fill=\"#fae9dc\" stroke=\"black\" d=\"M1691.5,-348C1691.5,-348 1568.5,-348 1568.5,-348 1562.5,-348 1556.5,-342 1556.5,-336 1556.5,-336 1556.5,-292 1556.5,-292 1556.5,-286 1562.5,-280 1568.5,-280 1568.5,-280 1691.5,-280 1691.5,-280 1697.5,-280 1703.5,-286 1703.5,-292 1703.5,-292 1703.5,-336 1703.5,-336 1703.5,-342 1697.5,-348 1691.5,-348\"/>\n",
       "<text text-anchor=\"start\" x=\"1593\" y=\"-332.8\" font-family=\"Helvetica,sans-Serif\" font-size=\"14.00\">bmi ≤ 0.206</text>\n",
       "<text text-anchor=\"start\" x=\"1564.5\" y=\"-317.8\" font-family=\"Helvetica,sans-Serif\" font-size=\"14.00\">mse = 27116070.635</text>\n",
       "<text text-anchor=\"start\" x=\"1580.5\" y=\"-302.8\" font-family=\"Helvetica,sans-Serif\" font-size=\"14.00\">samples = 1108</text>\n",
       "<text text-anchor=\"start\" x=\"1572\" y=\"-287.8\" font-family=\"Helvetica,sans-Serif\" font-size=\"14.00\">value = 12293.236</text>\n",
       "</g>\n",
       "<!-- 1472&#45;&gt;1473 -->\n",
       "<g id=\"edge33\" class=\"edge\">\n",
       "<title>1472&#45;&gt;1473</title>\n",
       "<path fill=\"none\" stroke=\"black\" d=\"M1630,-383.88C1630,-375.78 1630,-366.98 1630,-358.47\"/>\n",
       "<polygon fill=\"black\" stroke=\"black\" points=\"1633.5,-358.3 1630,-348.3 1626.5,-358.3 1633.5,-358.3\"/>\n",
       "</g>\n",
       "<!-- 2390 -->\n",
       "<g id=\"node49\" class=\"node\">\n",
       "<title>2390</title>\n",
       "<path fill=\"#f0b88f\" stroke=\"black\" d=\"M2177,-348C2177,-348 2045,-348 2045,-348 2039,-348 2033,-342 2033,-336 2033,-336 2033,-292 2033,-292 2033,-286 2039,-280 2045,-280 2045,-280 2177,-280 2177,-280 2183,-280 2189,-286 2189,-292 2189,-292 2189,-336 2189,-336 2189,-342 2183,-348 2177,-348\"/>\n",
       "<text text-anchor=\"start\" x=\"2074\" y=\"-332.8\" font-family=\"Helvetica,sans-Serif\" font-size=\"14.00\">bmi ≤ 0.379</text>\n",
       "<text text-anchor=\"start\" x=\"2041\" y=\"-317.8\" font-family=\"Helvetica,sans-Serif\" font-size=\"14.00\">mse = 122596169.927</text>\n",
       "<text text-anchor=\"start\" x=\"2065\" y=\"-302.8\" font-family=\"Helvetica,sans-Serif\" font-size=\"14.00\">samples = 278</text>\n",
       "<text text-anchor=\"start\" x=\"2057\" y=\"-287.8\" font-family=\"Helvetica,sans-Serif\" font-size=\"14.00\">value = 36638.77</text>\n",
       "</g>\n",
       "<!-- 1472&#45;&gt;2390 -->\n",
       "<g id=\"edge48\" class=\"edge\">\n",
       "<title>1472&#45;&gt;2390</title>\n",
       "<path fill=\"none\" stroke=\"black\" d=\"M1708.08,-400.44C1794.37,-382.14 1933.03,-352.74 2023.07,-333.65\"/>\n",
       "<polygon fill=\"black\" stroke=\"black\" points=\"2023.93,-337.04 2032.99,-331.54 2022.48,-330.19 2023.93,-337.04\"/>\n",
       "</g>\n",
       "<!-- 1474 -->\n",
       "<g id=\"node35\" class=\"node\">\n",
       "<title>1474</title>\n",
       "<path fill=\"#fbece2\" stroke=\"black\" d=\"M1606.5,-244C1606.5,-244 1489.5,-244 1489.5,-244 1483.5,-244 1477.5,-238 1477.5,-232 1477.5,-232 1477.5,-188 1477.5,-188 1477.5,-182 1483.5,-176 1489.5,-176 1489.5,-176 1606.5,-176 1606.5,-176 1612.5,-176 1618.5,-182 1618.5,-188 1618.5,-188 1618.5,-232 1618.5,-232 1618.5,-238 1612.5,-244 1606.5,-244\"/>\n",
       "<text text-anchor=\"start\" x=\"1511\" y=\"-228.8\" font-family=\"Helvetica,sans-Serif\" font-size=\"14.00\">age ≤ 0.772</text>\n",
       "<text text-anchor=\"start\" x=\"1485.5\" y=\"-213.8\" font-family=\"Helvetica,sans-Serif\" font-size=\"14.00\">mse = 3993561.373</text>\n",
       "<text text-anchor=\"start\" x=\"1506\" y=\"-198.8\" font-family=\"Helvetica,sans-Serif\" font-size=\"14.00\">samples = 86</text>\n",
       "<text text-anchor=\"start\" x=\"1490\" y=\"-183.8\" font-family=\"Helvetica,sans-Serif\" font-size=\"14.00\">value = 10382.513</text>\n",
       "</g>\n",
       "<!-- 1473&#45;&gt;1474 -->\n",
       "<g id=\"edge34\" class=\"edge\">\n",
       "<title>1473&#45;&gt;1474</title>\n",
       "<path fill=\"none\" stroke=\"black\" d=\"M1603.38,-279.88C1596.29,-271.07 1588.54,-261.43 1581.15,-252.24\"/>\n",
       "<polygon fill=\"black\" stroke=\"black\" points=\"1583.76,-249.9 1574.77,-244.3 1578.31,-254.29 1583.76,-249.9\"/>\n",
       "</g>\n",
       "<!-- 1555 -->\n",
       "<g id=\"node42\" class=\"node\">\n",
       "<title>1555</title>\n",
       "<path fill=\"#fae8db\" stroke=\"black\" d=\"M1773,-244C1773,-244 1649,-244 1649,-244 1643,-244 1637,-238 1637,-232 1637,-232 1637,-188 1637,-188 1637,-182 1643,-176 1649,-176 1649,-176 1773,-176 1773,-176 1779,-176 1785,-182 1785,-188 1785,-188 1785,-232 1785,-232 1785,-238 1779,-244 1773,-244\"/>\n",
       "<text text-anchor=\"start\" x=\"1674\" y=\"-228.8\" font-family=\"Helvetica,sans-Serif\" font-size=\"14.00\">age ≤ 0.728</text>\n",
       "<text text-anchor=\"start\" x=\"1645\" y=\"-213.8\" font-family=\"Helvetica,sans-Serif\" font-size=\"14.00\">mse = 28728733.218</text>\n",
       "<text text-anchor=\"start\" x=\"1661\" y=\"-198.8\" font-family=\"Helvetica,sans-Serif\" font-size=\"14.00\">samples = 1022</text>\n",
       "<text text-anchor=\"start\" x=\"1653\" y=\"-183.8\" font-family=\"Helvetica,sans-Serif\" font-size=\"14.00\">value = 12454.021</text>\n",
       "</g>\n",
       "<!-- 1473&#45;&gt;1555 -->\n",
       "<g id=\"edge41\" class=\"edge\">\n",
       "<title>1473&#45;&gt;1555</title>\n",
       "<path fill=\"none\" stroke=\"black\" d=\"M1656.3,-279.88C1663.3,-271.07 1670.95,-261.43 1678.25,-252.24\"/>\n",
       "<polygon fill=\"black\" stroke=\"black\" points=\"1681.08,-254.31 1684.56,-244.3 1675.6,-249.95 1681.08,-254.31\"/>\n",
       "</g>\n",
       "<!-- 1475 -->\n",
       "<g id=\"node36\" class=\"node\">\n",
       "<title>1475</title>\n",
       "<path fill=\"#fcefe6\" stroke=\"black\" d=\"M1449.5,-140C1449.5,-140 1340.5,-140 1340.5,-140 1334.5,-140 1328.5,-134 1328.5,-128 1328.5,-128 1328.5,-84 1328.5,-84 1328.5,-78 1334.5,-72 1340.5,-72 1340.5,-72 1449.5,-72 1449.5,-72 1455.5,-72 1461.5,-78 1461.5,-84 1461.5,-84 1461.5,-128 1461.5,-128 1461.5,-134 1455.5,-140 1449.5,-140\"/>\n",
       "<text text-anchor=\"start\" x=\"1358\" y=\"-124.8\" font-family=\"Helvetica,sans-Serif\" font-size=\"14.00\">age ≤ 0.663</text>\n",
       "<text text-anchor=\"start\" x=\"1336.5\" y=\"-109.8\" font-family=\"Helvetica,sans-Serif\" font-size=\"14.00\">mse = 939253.099</text>\n",
       "<text text-anchor=\"start\" x=\"1353\" y=\"-94.8\" font-family=\"Helvetica,sans-Serif\" font-size=\"14.00\">samples = 52</text>\n",
       "<text text-anchor=\"start\" x=\"1341.5\" y=\"-79.8\" font-family=\"Helvetica,sans-Serif\" font-size=\"14.00\">value = 9004.911</text>\n",
       "</g>\n",
       "<!-- 1474&#45;&gt;1475 -->\n",
       "<g id=\"edge35\" class=\"edge\">\n",
       "<title>1474&#45;&gt;1475</title>\n",
       "<path fill=\"none\" stroke=\"black\" d=\"M1498.33,-175.88C1483.96,-166.3 1468.14,-155.76 1453.3,-145.86\"/>\n",
       "<polygon fill=\"black\" stroke=\"black\" points=\"1454.95,-142.76 1444.69,-140.12 1451.07,-148.58 1454.95,-142.76\"/>\n",
       "</g>\n",
       "<!-- 1520 -->\n",
       "<g id=\"node39\" class=\"node\">\n",
       "<title>1520</title>\n",
       "<path fill=\"#fae8db\" stroke=\"black\" d=\"M1608.5,-140C1608.5,-140 1491.5,-140 1491.5,-140 1485.5,-140 1479.5,-134 1479.5,-128 1479.5,-128 1479.5,-84 1479.5,-84 1479.5,-78 1485.5,-72 1491.5,-72 1491.5,-72 1608.5,-72 1608.5,-72 1614.5,-72 1620.5,-78 1620.5,-84 1620.5,-84 1620.5,-128 1620.5,-128 1620.5,-134 1614.5,-140 1608.5,-140\"/>\n",
       "<text text-anchor=\"start\" x=\"1521.5\" y=\"-124.8\" font-family=\"Helvetica,sans-Serif\" font-size=\"14.00\">sex ≤ 0.5</text>\n",
       "<text text-anchor=\"start\" x=\"1487.5\" y=\"-109.8\" font-family=\"Helvetica,sans-Serif\" font-size=\"14.00\">mse = 1323236.832</text>\n",
       "<text text-anchor=\"start\" x=\"1508\" y=\"-94.8\" font-family=\"Helvetica,sans-Serif\" font-size=\"14.00\">samples = 34</text>\n",
       "<text text-anchor=\"start\" x=\"1492\" y=\"-79.8\" font-family=\"Helvetica,sans-Serif\" font-size=\"14.00\">value = 12489.435</text>\n",
       "</g>\n",
       "<!-- 1474&#45;&gt;1520 -->\n",
       "<g id=\"edge38\" class=\"edge\">\n",
       "<title>1474&#45;&gt;1520</title>\n",
       "<path fill=\"none\" stroke=\"black\" d=\"M1548.65,-175.88C1548.81,-167.78 1548.98,-158.98 1549.15,-150.47\"/>\n",
       "<polygon fill=\"black\" stroke=\"black\" points=\"1552.65,-150.37 1549.35,-140.3 1545.65,-150.23 1552.65,-150.37\"/>\n",
       "</g>\n",
       "<!-- 1476 -->\n",
       "<g id=\"node37\" class=\"node\">\n",
       "<title>1476</title>\n",
       "<path fill=\"#c0c0c0\" stroke=\"black\" d=\"M1343,-36C1343,-36 1313,-36 1313,-36 1307,-36 1301,-30 1301,-24 1301,-24 1301,-12 1301,-12 1301,-6 1307,0 1313,0 1313,0 1343,0 1343,0 1349,0 1355,-6 1355,-12 1355,-12 1355,-24 1355,-24 1355,-30 1349,-36 1343,-36\"/>\n",
       "<text text-anchor=\"middle\" x=\"1328\" y=\"-14.3\" font-family=\"Helvetica,sans-Serif\" font-size=\"14.00\">(...)</text>\n",
       "</g>\n",
       "<!-- 1475&#45;&gt;1476 -->\n",
       "<g id=\"edge36\" class=\"edge\">\n",
       "<title>1475&#45;&gt;1476</title>\n",
       "<path fill=\"none\" stroke=\"black\" d=\"M1369.29,-72C1362.13,-62.81 1354.47,-52.97 1347.71,-44.3\"/>\n",
       "<polygon fill=\"black\" stroke=\"black\" points=\"1350.47,-42.14 1341.56,-36.4 1344.94,-46.44 1350.47,-42.14\"/>\n",
       "</g>\n",
       "<!-- 1499 -->\n",
       "<g id=\"node38\" class=\"node\">\n",
       "<title>1499</title>\n",
       "<path fill=\"#c0c0c0\" stroke=\"black\" d=\"M1415,-36C1415,-36 1385,-36 1385,-36 1379,-36 1373,-30 1373,-24 1373,-24 1373,-12 1373,-12 1373,-6 1379,0 1385,0 1385,0 1415,0 1415,0 1421,0 1427,-6 1427,-12 1427,-12 1427,-24 1427,-24 1427,-30 1421,-36 1415,-36\"/>\n",
       "<text text-anchor=\"middle\" x=\"1400\" y=\"-14.3\" font-family=\"Helvetica,sans-Serif\" font-size=\"14.00\">(...)</text>\n",
       "</g>\n",
       "<!-- 1475&#45;&gt;1499 -->\n",
       "<g id=\"edge37\" class=\"edge\">\n",
       "<title>1475&#45;&gt;1499</title>\n",
       "<path fill=\"none\" stroke=\"black\" d=\"M1396.92,-72C1397.41,-63.56 1397.93,-54.59 1398.4,-46.47\"/>\n",
       "<polygon fill=\"black\" stroke=\"black\" points=\"1401.9,-46.59 1398.99,-36.4 1394.91,-46.18 1401.9,-46.59\"/>\n",
       "</g>\n",
       "<!-- 1521 -->\n",
       "<g id=\"node40\" class=\"node\">\n",
       "<title>1521</title>\n",
       "<path fill=\"#c0c0c0\" stroke=\"black\" d=\"M1500,-36C1500,-36 1470,-36 1470,-36 1464,-36 1458,-30 1458,-24 1458,-24 1458,-12 1458,-12 1458,-6 1464,0 1470,0 1470,0 1500,0 1500,0 1506,0 1512,-6 1512,-12 1512,-12 1512,-24 1512,-24 1512,-30 1506,-36 1500,-36\"/>\n",
       "<text text-anchor=\"middle\" x=\"1485\" y=\"-14.3\" font-family=\"Helvetica,sans-Serif\" font-size=\"14.00\">(...)</text>\n",
       "</g>\n",
       "<!-- 1520&#45;&gt;1521 -->\n",
       "<g id=\"edge39\" class=\"edge\">\n",
       "<title>1520&#45;&gt;1521</title>\n",
       "<path fill=\"none\" stroke=\"black\" d=\"M1525.06,-72C1518.18,-62.9 1510.83,-53.18 1504.33,-44.57\"/>\n",
       "<polygon fill=\"black\" stroke=\"black\" points=\"1506.98,-42.27 1498.15,-36.4 1501.39,-46.49 1506.98,-42.27\"/>\n",
       "</g>\n",
       "<!-- 1542 -->\n",
       "<g id=\"node41\" class=\"node\">\n",
       "<title>1542</title>\n",
       "<path fill=\"#c0c0c0\" stroke=\"black\" d=\"M1572,-36C1572,-36 1542,-36 1542,-36 1536,-36 1530,-30 1530,-24 1530,-24 1530,-12 1530,-12 1530,-6 1536,0 1542,0 1542,0 1572,0 1572,0 1578,0 1584,-6 1584,-12 1584,-12 1584,-24 1584,-24 1584,-30 1578,-36 1572,-36\"/>\n",
       "<text text-anchor=\"middle\" x=\"1557\" y=\"-14.3\" font-family=\"Helvetica,sans-Serif\" font-size=\"14.00\">(...)</text>\n",
       "</g>\n",
       "<!-- 1520&#45;&gt;1542 -->\n",
       "<g id=\"edge40\" class=\"edge\">\n",
       "<title>1520&#45;&gt;1542</title>\n",
       "<path fill=\"none\" stroke=\"black\" d=\"M1552.69,-72C1553.37,-63.56 1554.1,-54.59 1554.76,-46.47\"/>\n",
       "<polygon fill=\"black\" stroke=\"black\" points=\"1558.26,-46.65 1555.58,-36.4 1551.28,-46.09 1558.26,-46.65\"/>\n",
       "</g>\n",
       "<!-- 1556 -->\n",
       "<g id=\"node43\" class=\"node\">\n",
       "<title>1556</title>\n",
       "<path fill=\"#fbece2\" stroke=\"black\" d=\"M1767,-140C1767,-140 1651,-140 1651,-140 1645,-140 1639,-134 1639,-128 1639,-128 1639,-84 1639,-84 1639,-78 1645,-72 1651,-72 1651,-72 1767,-72 1767,-72 1773,-72 1779,-78 1779,-84 1779,-84 1779,-128 1779,-128 1779,-134 1773,-140 1767,-140\"/>\n",
       "<text text-anchor=\"start\" x=\"1675.5\" y=\"-124.8\" font-family=\"Helvetica,sans-Serif\" font-size=\"14.00\">age ≤ 0.62</text>\n",
       "<text text-anchor=\"start\" x=\"1647\" y=\"-109.8\" font-family=\"Helvetica,sans-Serif\" font-size=\"14.00\">mse = 21139842.94</text>\n",
       "<text text-anchor=\"start\" x=\"1663\" y=\"-94.8\" font-family=\"Helvetica,sans-Serif\" font-size=\"14.00\">samples = 439</text>\n",
       "<text text-anchor=\"start\" x=\"1651\" y=\"-79.8\" font-family=\"Helvetica,sans-Serif\" font-size=\"14.00\">value = 10338.728</text>\n",
       "</g>\n",
       "<!-- 1555&#45;&gt;1556 -->\n",
       "<g id=\"edge42\" class=\"edge\">\n",
       "<title>1555&#45;&gt;1556</title>\n",
       "<path fill=\"none\" stroke=\"black\" d=\"M1710.35,-175.88C1710.19,-167.78 1710.02,-158.98 1709.85,-150.47\"/>\n",
       "<polygon fill=\"black\" stroke=\"black\" points=\"1713.35,-150.23 1709.65,-140.3 1706.35,-150.37 1713.35,-150.23\"/>\n",
       "</g>\n",
       "<!-- 1903 -->\n",
       "<g id=\"node46\" class=\"node\">\n",
       "<title>1903</title>\n",
       "<path fill=\"#fae5d6\" stroke=\"black\" d=\"M1933,-140C1933,-140 1809,-140 1809,-140 1803,-140 1797,-134 1797,-128 1797,-128 1797,-84 1797,-84 1797,-78 1803,-72 1809,-72 1809,-72 1933,-72 1933,-72 1939,-72 1945,-78 1945,-84 1945,-84 1945,-128 1945,-128 1945,-134 1939,-140 1933,-140\"/>\n",
       "<text text-anchor=\"start\" x=\"1837.5\" y=\"-124.8\" font-family=\"Helvetica,sans-Serif\" font-size=\"14.00\">age ≤ 0.88</text>\n",
       "<text text-anchor=\"start\" x=\"1805\" y=\"-109.8\" font-family=\"Helvetica,sans-Serif\" font-size=\"14.00\">mse = 28536826.401</text>\n",
       "<text text-anchor=\"start\" x=\"1825\" y=\"-94.8\" font-family=\"Helvetica,sans-Serif\" font-size=\"14.00\">samples = 583</text>\n",
       "<text text-anchor=\"start\" x=\"1813\" y=\"-79.8\" font-family=\"Helvetica,sans-Serif\" font-size=\"14.00\">value = 14046.841</text>\n",
       "</g>\n",
       "<!-- 1555&#45;&gt;1903 -->\n",
       "<g id=\"edge45\" class=\"edge\">\n",
       "<title>1555&#45;&gt;1903</title>\n",
       "<path fill=\"none\" stroke=\"black\" d=\"M1762.95,-175.88C1778.11,-166.21 1794.82,-155.56 1810.47,-145.59\"/>\n",
       "<polygon fill=\"black\" stroke=\"black\" points=\"1812.49,-148.45 1819.04,-140.12 1808.73,-142.55 1812.49,-148.45\"/>\n",
       "</g>\n",
       "<!-- 1557 -->\n",
       "<g id=\"node44\" class=\"node\">\n",
       "<title>1557</title>\n",
       "<path fill=\"#c0c0c0\" stroke=\"black\" d=\"M1661,-36C1661,-36 1631,-36 1631,-36 1625,-36 1619,-30 1619,-24 1619,-24 1619,-12 1619,-12 1619,-6 1625,0 1631,0 1631,0 1661,0 1661,0 1667,0 1673,-6 1673,-12 1673,-12 1673,-24 1673,-24 1673,-30 1667,-36 1661,-36\"/>\n",
       "<text text-anchor=\"middle\" x=\"1646\" y=\"-14.3\" font-family=\"Helvetica,sans-Serif\" font-size=\"14.00\">(...)</text>\n",
       "</g>\n",
       "<!-- 1556&#45;&gt;1557 -->\n",
       "<g id=\"edge43\" class=\"edge\">\n",
       "<title>1556&#45;&gt;1557</title>\n",
       "<path fill=\"none\" stroke=\"black\" d=\"M1684.82,-72C1678.16,-62.9 1671.04,-53.18 1664.73,-44.57\"/>\n",
       "<polygon fill=\"black\" stroke=\"black\" points=\"1667.48,-42.4 1658.75,-36.4 1661.84,-46.54 1667.48,-42.4\"/>\n",
       "</g>\n",
       "<!-- 1706 -->\n",
       "<g id=\"node45\" class=\"node\">\n",
       "<title>1706</title>\n",
       "<path fill=\"#c0c0c0\" stroke=\"black\" d=\"M1733,-36C1733,-36 1703,-36 1703,-36 1697,-36 1691,-30 1691,-24 1691,-24 1691,-12 1691,-12 1691,-6 1697,0 1703,0 1703,0 1733,0 1733,0 1739,0 1745,-6 1745,-12 1745,-12 1745,-24 1745,-24 1745,-30 1739,-36 1733,-36\"/>\n",
       "<text text-anchor=\"middle\" x=\"1718\" y=\"-14.3\" font-family=\"Helvetica,sans-Serif\" font-size=\"14.00\">(...)</text>\n",
       "</g>\n",
       "<!-- 1556&#45;&gt;1706 -->\n",
       "<g id=\"edge44\" class=\"edge\">\n",
       "<title>1556&#45;&gt;1706</title>\n",
       "<path fill=\"none\" stroke=\"black\" d=\"M1712.45,-72C1713.34,-63.56 1714.28,-54.59 1715.13,-46.47\"/>\n",
       "<polygon fill=\"black\" stroke=\"black\" points=\"1718.62,-46.71 1716.18,-36.4 1711.66,-45.98 1718.62,-46.71\"/>\n",
       "</g>\n",
       "<!-- 1904 -->\n",
       "<g id=\"node47\" class=\"node\">\n",
       "<title>1904</title>\n",
       "<path fill=\"#c0c0c0\" stroke=\"black\" d=\"M1823,-36C1823,-36 1793,-36 1793,-36 1787,-36 1781,-30 1781,-24 1781,-24 1781,-12 1781,-12 1781,-6 1787,0 1793,0 1793,0 1823,0 1823,0 1829,0 1835,-6 1835,-12 1835,-12 1835,-24 1835,-24 1835,-30 1829,-36 1823,-36\"/>\n",
       "<text text-anchor=\"middle\" x=\"1808\" y=\"-14.3\" font-family=\"Helvetica,sans-Serif\" font-size=\"14.00\">(...)</text>\n",
       "</g>\n",
       "<!-- 1903&#45;&gt;1904 -->\n",
       "<g id=\"edge46\" class=\"edge\">\n",
       "<title>1903&#45;&gt;1904</title>\n",
       "<path fill=\"none\" stroke=\"black\" d=\"M1846.82,-72C1840.16,-62.9 1833.04,-53.18 1826.73,-44.57\"/>\n",
       "<polygon fill=\"black\" stroke=\"black\" points=\"1829.48,-42.4 1820.75,-36.4 1823.84,-46.54 1829.48,-42.4\"/>\n",
       "</g>\n",
       "<!-- 2195 -->\n",
       "<g id=\"node48\" class=\"node\">\n",
       "<title>2195</title>\n",
       "<path fill=\"#c0c0c0\" stroke=\"black\" d=\"M1895,-36C1895,-36 1865,-36 1865,-36 1859,-36 1853,-30 1853,-24 1853,-24 1853,-12 1853,-12 1853,-6 1859,0 1865,0 1865,0 1895,0 1895,0 1901,0 1907,-6 1907,-12 1907,-12 1907,-24 1907,-24 1907,-30 1901,-36 1895,-36\"/>\n",
       "<text text-anchor=\"middle\" x=\"1880\" y=\"-14.3\" font-family=\"Helvetica,sans-Serif\" font-size=\"14.00\">(...)</text>\n",
       "</g>\n",
       "<!-- 1903&#45;&gt;2195 -->\n",
       "<g id=\"edge47\" class=\"edge\">\n",
       "<title>1903&#45;&gt;2195</title>\n",
       "<path fill=\"none\" stroke=\"black\" d=\"M1874.45,-72C1875.34,-63.56 1876.28,-54.59 1877.13,-46.47\"/>\n",
       "<polygon fill=\"black\" stroke=\"black\" points=\"1880.62,-46.71 1878.18,-36.4 1873.66,-45.98 1880.62,-46.71\"/>\n",
       "</g>\n",
       "<!-- 2391 -->\n",
       "<g id=\"node50\" class=\"node\">\n",
       "<title>2391</title>\n",
       "<path fill=\"#f5cfb4\" stroke=\"black\" d=\"M2173,-244C2173,-244 2049,-244 2049,-244 2043,-244 2037,-238 2037,-232 2037,-232 2037,-188 2037,-188 2037,-182 2043,-176 2049,-176 2049,-176 2173,-176 2173,-176 2179,-176 2185,-182 2185,-188 2185,-188 2185,-232 2185,-232 2185,-238 2179,-244 2173,-244\"/>\n",
       "<text text-anchor=\"start\" x=\"2074\" y=\"-228.8\" font-family=\"Helvetica,sans-Serif\" font-size=\"14.00\">age ≤ 0.837</text>\n",
       "<text text-anchor=\"start\" x=\"2045\" y=\"-213.8\" font-family=\"Helvetica,sans-Serif\" font-size=\"14.00\">mse = 13602484.412</text>\n",
       "<text text-anchor=\"start\" x=\"2065\" y=\"-198.8\" font-family=\"Helvetica,sans-Serif\" font-size=\"14.00\">samples = 121</text>\n",
       "<text text-anchor=\"start\" x=\"2053\" y=\"-183.8\" font-family=\"Helvetica,sans-Serif\" font-size=\"14.00\">value = 24970.542</text>\n",
       "</g>\n",
       "<!-- 2390&#45;&gt;2391 -->\n",
       "<g id=\"edge49\" class=\"edge\">\n",
       "<title>2390&#45;&gt;2391</title>\n",
       "<path fill=\"none\" stroke=\"black\" d=\"M2111,-279.88C2111,-271.78 2111,-262.98 2111,-254.47\"/>\n",
       "<polygon fill=\"black\" stroke=\"black\" points=\"2114.5,-254.3 2111,-244.3 2107.5,-254.3 2114.5,-254.3\"/>\n",
       "</g>\n",
       "<!-- 2490 -->\n",
       "<g id=\"node57\" class=\"node\">\n",
       "<title>2490</title>\n",
       "<path fill=\"#eda572\" stroke=\"black\" d=\"M2417,-244C2417,-244 2293,-244 2293,-244 2287,-244 2281,-238 2281,-232 2281,-232 2281,-188 2281,-188 2281,-182 2287,-176 2293,-176 2293,-176 2417,-176 2417,-176 2423,-176 2429,-182 2429,-188 2429,-188 2429,-232 2429,-232 2429,-238 2423,-244 2417,-244\"/>\n",
       "<text text-anchor=\"start\" x=\"2313\" y=\"-228.8\" font-family=\"Helvetica,sans-Serif\" font-size=\"14.00\">children ≤ 0.1</text>\n",
       "<text text-anchor=\"start\" x=\"2289\" y=\"-213.8\" font-family=\"Helvetica,sans-Serif\" font-size=\"14.00\">mse = 20799836.819</text>\n",
       "<text text-anchor=\"start\" x=\"2309\" y=\"-198.8\" font-family=\"Helvetica,sans-Serif\" font-size=\"14.00\">samples = 157</text>\n",
       "<text text-anchor=\"start\" x=\"2301\" y=\"-183.8\" font-family=\"Helvetica,sans-Serif\" font-size=\"14.00\">value = 45631.48</text>\n",
       "</g>\n",
       "<!-- 2390&#45;&gt;2490 -->\n",
       "<g id=\"edge56\" class=\"edge\">\n",
       "<title>2390&#45;&gt;2490</title>\n",
       "<path fill=\"none\" stroke=\"black\" d=\"M2189.21,-280.31C2215.52,-269.31 2244.96,-257 2271.65,-245.84\"/>\n",
       "<polygon fill=\"black\" stroke=\"black\" points=\"2273.09,-249.03 2280.97,-241.95 2270.39,-242.58 2273.09,-249.03\"/>\n",
       "</g>\n",
       "<!-- 2392 -->\n",
       "<g id=\"node51\" class=\"node\">\n",
       "<title>2392</title>\n",
       "<path fill=\"#f6d1b7\" stroke=\"black\" d=\"M2092.5,-140C2092.5,-140 1975.5,-140 1975.5,-140 1969.5,-140 1963.5,-134 1963.5,-128 1963.5,-128 1963.5,-84 1963.5,-84 1963.5,-78 1969.5,-72 1975.5,-72 1975.5,-72 2092.5,-72 2092.5,-72 2098.5,-72 2104.5,-78 2104.5,-84 2104.5,-84 2104.5,-128 2104.5,-128 2104.5,-134 2098.5,-140 2092.5,-140\"/>\n",
       "<text text-anchor=\"start\" x=\"1997\" y=\"-124.8\" font-family=\"Helvetica,sans-Serif\" font-size=\"14.00\">bmi ≤ 0.316</text>\n",
       "<text text-anchor=\"start\" x=\"1971.5\" y=\"-109.8\" font-family=\"Helvetica,sans-Serif\" font-size=\"14.00\">mse = 12327953.22</text>\n",
       "<text text-anchor=\"start\" x=\"1992\" y=\"-94.8\" font-family=\"Helvetica,sans-Serif\" font-size=\"14.00\">samples = 91</text>\n",
       "<text text-anchor=\"start\" x=\"1976\" y=\"-79.8\" font-family=\"Helvetica,sans-Serif\" font-size=\"14.00\">value = 23818.953</text>\n",
       "</g>\n",
       "<!-- 2391&#45;&gt;2392 -->\n",
       "<g id=\"edge50\" class=\"edge\">\n",
       "<title>2391&#45;&gt;2392</title>\n",
       "<path fill=\"none\" stroke=\"black\" d=\"M2086,-175.88C2079.41,-167.15 2072.22,-157.62 2065.34,-148.51\"/>\n",
       "<polygon fill=\"black\" stroke=\"black\" points=\"2067.96,-146.17 2059.14,-140.3 2062.37,-150.39 2067.96,-146.17\"/>\n",
       "</g>\n",
       "<!-- 2463 -->\n",
       "<g id=\"node54\" class=\"node\">\n",
       "<title>2463</title>\n",
       "<path fill=\"#f4c8a9\" stroke=\"black\" d=\"M2251,-140C2251,-140 2135,-140 2135,-140 2129,-140 2123,-134 2123,-128 2123,-128 2123,-84 2123,-84 2123,-78 2129,-72 2135,-72 2135,-72 2251,-72 2251,-72 2257,-72 2263,-78 2263,-84 2263,-84 2263,-128 2263,-128 2263,-134 2257,-140 2251,-140\"/>\n",
       "<text text-anchor=\"start\" x=\"2151\" y=\"-124.8\" font-family=\"Helvetica,sans-Serif\" font-size=\"14.00\">children ≤ 0.4</text>\n",
       "<text text-anchor=\"start\" x=\"2131\" y=\"-109.8\" font-family=\"Helvetica,sans-Serif\" font-size=\"14.00\">mse = 1243750.711</text>\n",
       "<text text-anchor=\"start\" x=\"2151\" y=\"-94.8\" font-family=\"Helvetica,sans-Serif\" font-size=\"14.00\">samples = 30</text>\n",
       "<text text-anchor=\"start\" x=\"2135\" y=\"-79.8\" font-family=\"Helvetica,sans-Serif\" font-size=\"14.00\">value = 28463.697</text>\n",
       "</g>\n",
       "<!-- 2391&#45;&gt;2463 -->\n",
       "<g id=\"edge53\" class=\"edge\">\n",
       "<title>2391&#45;&gt;2463</title>\n",
       "<path fill=\"none\" stroke=\"black\" d=\"M2137.62,-175.88C2144.71,-167.07 2152.46,-157.43 2159.85,-148.24\"/>\n",
       "<polygon fill=\"black\" stroke=\"black\" points=\"2162.69,-150.29 2166.23,-140.3 2157.24,-145.9 2162.69,-150.29\"/>\n",
       "</g>\n",
       "<!-- 2393 -->\n",
       "<g id=\"node52\" class=\"node\">\n",
       "<title>2393</title>\n",
       "<path fill=\"#c0c0c0\" stroke=\"black\" d=\"M1984,-36C1984,-36 1954,-36 1954,-36 1948,-36 1942,-30 1942,-24 1942,-24 1942,-12 1942,-12 1942,-6 1948,0 1954,0 1954,0 1984,0 1984,0 1990,0 1996,-6 1996,-12 1996,-12 1996,-24 1996,-24 1996,-30 1990,-36 1984,-36\"/>\n",
       "<text text-anchor=\"middle\" x=\"1969\" y=\"-14.3\" font-family=\"Helvetica,sans-Serif\" font-size=\"14.00\">(...)</text>\n",
       "</g>\n",
       "<!-- 2392&#45;&gt;2393 -->\n",
       "<g id=\"edge51\" class=\"edge\">\n",
       "<title>2392&#45;&gt;2393</title>\n",
       "<path fill=\"none\" stroke=\"black\" d=\"M2009.06,-72C2002.18,-62.9 1994.83,-53.18 1988.33,-44.57\"/>\n",
       "<polygon fill=\"black\" stroke=\"black\" points=\"1990.98,-42.27 1982.15,-36.4 1985.39,-46.49 1990.98,-42.27\"/>\n",
       "</g>\n",
       "<!-- 2454 -->\n",
       "<g id=\"node53\" class=\"node\">\n",
       "<title>2454</title>\n",
       "<path fill=\"#c0c0c0\" stroke=\"black\" d=\"M2056,-36C2056,-36 2026,-36 2026,-36 2020,-36 2014,-30 2014,-24 2014,-24 2014,-12 2014,-12 2014,-6 2020,0 2026,0 2026,0 2056,0 2056,0 2062,0 2068,-6 2068,-12 2068,-12 2068,-24 2068,-24 2068,-30 2062,-36 2056,-36\"/>\n",
       "<text text-anchor=\"middle\" x=\"2041\" y=\"-14.3\" font-family=\"Helvetica,sans-Serif\" font-size=\"14.00\">(...)</text>\n",
       "</g>\n",
       "<!-- 2392&#45;&gt;2454 -->\n",
       "<g id=\"edge52\" class=\"edge\">\n",
       "<title>2392&#45;&gt;2454</title>\n",
       "<path fill=\"none\" stroke=\"black\" d=\"M2036.69,-72C2037.37,-63.56 2038.1,-54.59 2038.76,-46.47\"/>\n",
       "<polygon fill=\"black\" stroke=\"black\" points=\"2042.26,-46.65 2039.58,-36.4 2035.28,-46.09 2042.26,-46.65\"/>\n",
       "</g>\n",
       "<!-- 2464 -->\n",
       "<g id=\"node55\" class=\"node\">\n",
       "<title>2464</title>\n",
       "<path fill=\"#c0c0c0\" stroke=\"black\" d=\"M2145,-36C2145,-36 2115,-36 2115,-36 2109,-36 2103,-30 2103,-24 2103,-24 2103,-12 2103,-12 2103,-6 2109,0 2115,0 2115,0 2145,0 2145,0 2151,0 2157,-6 2157,-12 2157,-12 2157,-24 2157,-24 2157,-30 2151,-36 2145,-36\"/>\n",
       "<text text-anchor=\"middle\" x=\"2130\" y=\"-14.3\" font-family=\"Helvetica,sans-Serif\" font-size=\"14.00\">(...)</text>\n",
       "</g>\n",
       "<!-- 2463&#45;&gt;2464 -->\n",
       "<g id=\"edge54\" class=\"edge\">\n",
       "<title>2463&#45;&gt;2464</title>\n",
       "<path fill=\"none\" stroke=\"black\" d=\"M2168.82,-72C2162.16,-62.9 2155.04,-53.18 2148.73,-44.57\"/>\n",
       "<polygon fill=\"black\" stroke=\"black\" points=\"2151.48,-42.4 2142.75,-36.4 2145.84,-46.54 2151.48,-42.4\"/>\n",
       "</g>\n",
       "<!-- 2487 -->\n",
       "<g id=\"node56\" class=\"node\">\n",
       "<title>2487</title>\n",
       "<path fill=\"#c0c0c0\" stroke=\"black\" d=\"M2217,-36C2217,-36 2187,-36 2187,-36 2181,-36 2175,-30 2175,-24 2175,-24 2175,-12 2175,-12 2175,-6 2181,0 2187,0 2187,0 2217,0 2217,0 2223,0 2229,-6 2229,-12 2229,-12 2229,-24 2229,-24 2229,-30 2223,-36 2217,-36\"/>\n",
       "<text text-anchor=\"middle\" x=\"2202\" y=\"-14.3\" font-family=\"Helvetica,sans-Serif\" font-size=\"14.00\">(...)</text>\n",
       "</g>\n",
       "<!-- 2463&#45;&gt;2487 -->\n",
       "<g id=\"edge55\" class=\"edge\">\n",
       "<title>2463&#45;&gt;2487</title>\n",
       "<path fill=\"none\" stroke=\"black\" d=\"M2196.45,-72C2197.34,-63.56 2198.28,-54.59 2199.13,-46.47\"/>\n",
       "<polygon fill=\"black\" stroke=\"black\" points=\"2202.62,-46.71 2200.18,-36.4 2195.66,-45.98 2202.62,-46.71\"/>\n",
       "</g>\n",
       "<!-- 2491 -->\n",
       "<g id=\"node58\" class=\"node\">\n",
       "<title>2491</title>\n",
       "<path fill=\"#eca471\" stroke=\"black\" d=\"M2417,-140C2417,-140 2293,-140 2293,-140 2287,-140 2281,-134 2281,-128 2281,-128 2281,-84 2281,-84 2281,-78 2287,-72 2293,-72 2293,-72 2417,-72 2417,-72 2423,-72 2429,-78 2429,-84 2429,-84 2429,-128 2429,-128 2429,-134 2423,-140 2417,-140\"/>\n",
       "<text text-anchor=\"start\" x=\"2318\" y=\"-124.8\" font-family=\"Helvetica,sans-Serif\" font-size=\"14.00\">age ≤ 0.772</text>\n",
       "<text text-anchor=\"start\" x=\"2289\" y=\"-109.8\" font-family=\"Helvetica,sans-Serif\" font-size=\"14.00\">mse = 28358465.233</text>\n",
       "<text text-anchor=\"start\" x=\"2313\" y=\"-94.8\" font-family=\"Helvetica,sans-Serif\" font-size=\"14.00\">samples = 69</text>\n",
       "<text text-anchor=\"start\" x=\"2297\" y=\"-79.8\" font-family=\"Helvetica,sans-Serif\" font-size=\"14.00\">value = 46137.599</text>\n",
       "</g>\n",
       "<!-- 2490&#45;&gt;2491 -->\n",
       "<g id=\"edge57\" class=\"edge\">\n",
       "<title>2490&#45;&gt;2491</title>\n",
       "<path fill=\"none\" stroke=\"black\" d=\"M2355,-175.88C2355,-167.78 2355,-158.98 2355,-150.47\"/>\n",
       "<polygon fill=\"black\" stroke=\"black\" points=\"2358.5,-150.3 2355,-140.3 2351.5,-150.3 2358.5,-150.3\"/>\n",
       "</g>\n",
       "<!-- 2540 -->\n",
       "<g id=\"node61\" class=\"node\">\n",
       "<title>2540</title>\n",
       "<path fill=\"#eda674\" stroke=\"black\" d=\"M2583,-140C2583,-140 2459,-140 2459,-140 2453,-140 2447,-134 2447,-128 2447,-128 2447,-84 2447,-84 2447,-78 2453,-72 2459,-72 2459,-72 2583,-72 2583,-72 2589,-72 2595,-78 2595,-84 2595,-84 2595,-128 2595,-128 2595,-134 2589,-140 2583,-140\"/>\n",
       "<text text-anchor=\"start\" x=\"2479\" y=\"-124.8\" font-family=\"Helvetica,sans-Serif\" font-size=\"14.00\">children ≤ 0.3</text>\n",
       "<text text-anchor=\"start\" x=\"2455\" y=\"-109.8\" font-family=\"Helvetica,sans-Serif\" font-size=\"14.00\">mse = 14514850.816</text>\n",
       "<text text-anchor=\"start\" x=\"2479\" y=\"-94.8\" font-family=\"Helvetica,sans-Serif\" font-size=\"14.00\">samples = 88</text>\n",
       "<text text-anchor=\"start\" x=\"2463\" y=\"-79.8\" font-family=\"Helvetica,sans-Serif\" font-size=\"14.00\">value = 45234.637</text>\n",
       "</g>\n",
       "<!-- 2490&#45;&gt;2540 -->\n",
       "<g id=\"edge60\" class=\"edge\">\n",
       "<title>2490&#45;&gt;2540</title>\n",
       "<path fill=\"none\" stroke=\"black\" d=\"M2408.9,-175.88C2424.63,-166.21 2441.97,-155.56 2458.2,-145.59\"/>\n",
       "<polygon fill=\"black\" stroke=\"black\" points=\"2460.4,-148.34 2467.09,-140.12 2456.74,-142.38 2460.4,-148.34\"/>\n",
       "</g>\n",
       "<!-- 2492 -->\n",
       "<g id=\"node59\" class=\"node\">\n",
       "<title>2492</title>\n",
       "<path fill=\"#c0c0c0\" stroke=\"black\" d=\"M2327,-36C2327,-36 2297,-36 2297,-36 2291,-36 2285,-30 2285,-24 2285,-24 2285,-12 2285,-12 2285,-6 2291,0 2297,0 2297,0 2327,0 2327,0 2333,0 2339,-6 2339,-12 2339,-12 2339,-24 2339,-24 2339,-30 2333,-36 2327,-36\"/>\n",
       "<text text-anchor=\"middle\" x=\"2312\" y=\"-14.3\" font-family=\"Helvetica,sans-Serif\" font-size=\"14.00\">(...)</text>\n",
       "</g>\n",
       "<!-- 2491&#45;&gt;2492 -->\n",
       "<g id=\"edge58\" class=\"edge\">\n",
       "<title>2491&#45;&gt;2492</title>\n",
       "<path fill=\"none\" stroke=\"black\" d=\"M2338.5,-72C2334.09,-63.19 2329.39,-53.78 2325.19,-45.38\"/>\n",
       "<polygon fill=\"black\" stroke=\"black\" points=\"2328.3,-43.78 2320.7,-36.4 2322.04,-46.91 2328.3,-43.78\"/>\n",
       "</g>\n",
       "<!-- 2513 -->\n",
       "<g id=\"node60\" class=\"node\">\n",
       "<title>2513</title>\n",
       "<path fill=\"#c0c0c0\" stroke=\"black\" d=\"M2399,-36C2399,-36 2369,-36 2369,-36 2363,-36 2357,-30 2357,-24 2357,-24 2357,-12 2357,-12 2357,-6 2363,0 2369,0 2369,0 2399,0 2399,0 2405,0 2411,-6 2411,-12 2411,-12 2411,-24 2411,-24 2411,-30 2405,-36 2399,-36\"/>\n",
       "<text text-anchor=\"middle\" x=\"2384\" y=\"-14.3\" font-family=\"Helvetica,sans-Serif\" font-size=\"14.00\">(...)</text>\n",
       "</g>\n",
       "<!-- 2491&#45;&gt;2513 -->\n",
       "<g id=\"edge59\" class=\"edge\">\n",
       "<title>2491&#45;&gt;2513</title>\n",
       "<path fill=\"none\" stroke=\"black\" d=\"M2366.13,-72C2369.04,-63.38 2372.13,-54.19 2374.92,-45.92\"/>\n",
       "<polygon fill=\"black\" stroke=\"black\" points=\"2378.25,-47 2378.13,-36.4 2371.62,-44.76 2378.25,-47\"/>\n",
       "</g>\n",
       "<!-- 2541 -->\n",
       "<g id=\"node62\" class=\"node\">\n",
       "<title>2541</title>\n",
       "<path fill=\"#c0c0c0\" stroke=\"black\" d=\"M2500,-36C2500,-36 2470,-36 2470,-36 2464,-36 2458,-30 2458,-24 2458,-24 2458,-12 2458,-12 2458,-6 2464,0 2470,0 2470,0 2500,0 2500,0 2506,0 2512,-6 2512,-12 2512,-12 2512,-24 2512,-24 2512,-30 2506,-36 2500,-36\"/>\n",
       "<text text-anchor=\"middle\" x=\"2485\" y=\"-14.3\" font-family=\"Helvetica,sans-Serif\" font-size=\"14.00\">(...)</text>\n",
       "</g>\n",
       "<!-- 2540&#45;&gt;2541 -->\n",
       "<g id=\"edge61\" class=\"edge\">\n",
       "<title>2540&#45;&gt;2541</title>\n",
       "<path fill=\"none\" stroke=\"black\" d=\"M2507.18,-72C2503.54,-63.28 2499.64,-53.98 2496.16,-45.65\"/>\n",
       "<polygon fill=\"black\" stroke=\"black\" points=\"2499.38,-44.28 2492.29,-36.4 2492.92,-46.98 2499.38,-44.28\"/>\n",
       "</g>\n",
       "<!-- 2566 -->\n",
       "<g id=\"node63\" class=\"node\">\n",
       "<title>2566</title>\n",
       "<path fill=\"#c0c0c0\" stroke=\"black\" d=\"M2572,-36C2572,-36 2542,-36 2542,-36 2536,-36 2530,-30 2530,-24 2530,-24 2530,-12 2530,-12 2530,-6 2536,0 2542,0 2542,0 2572,0 2572,0 2578,0 2584,-6 2584,-12 2584,-12 2584,-24 2584,-24 2584,-30 2578,-36 2572,-36\"/>\n",
       "<text text-anchor=\"middle\" x=\"2557\" y=\"-14.3\" font-family=\"Helvetica,sans-Serif\" font-size=\"14.00\">(...)</text>\n",
       "</g>\n",
       "<!-- 2540&#45;&gt;2566 -->\n",
       "<g id=\"edge62\" class=\"edge\">\n",
       "<title>2540&#45;&gt;2566</title>\n",
       "<path fill=\"none\" stroke=\"black\" d=\"M2534.82,-72C2538.46,-63.28 2542.36,-53.98 2545.84,-45.65\"/>\n",
       "<polygon fill=\"black\" stroke=\"black\" points=\"2549.08,-46.98 2549.71,-36.4 2542.62,-44.28 2549.08,-46.98\"/>\n",
       "</g>\n",
       "</g>\n",
       "</svg>\n"
      ],
      "text/plain": [
       "<graphviz.files.Source at 0x7fe0b8e99970>"
      ]
     },
     "execution_count": 94,
     "metadata": {},
     "output_type": "execute_result"
    }
   ],
   "source": [
    "dot_data = tree.export_graphviz(model_dt, out_file=None, \n",
    "                      feature_names=['age','sex','bmi','children','smoker'],  \n",
    "                      filled=True, rounded=True,  \n",
    "                      special_characters=True,\n",
    "                      max_depth=4)  \n",
    "graph = graphviz.Source(dot_data)  \n",
    "graph "
   ]
  },
  {
   "cell_type": "markdown",
   "id": "5c232be0",
   "metadata": {},
   "source": [
    "# Project Analysis\n",
    "\n",
    "Machine learning algorithms can predict the cost of the premium for health insurance. The cost of the premium for health insurance varies from person to person. For example, a smoker is charged higher premium than a non-smoker. Companies calculate the premium for each person based on few factors like age, bmi, smoker etc. It is possible to predict the premium cost using machine learning algorithms. We can train a machine learning algorithm using the past data to predict the premium cost. \n",
    "\n",
    "The size of past data 5352 records. It contained 7 columns, out of which six of them was independent variable and one was dependent variable. The data was labeled so we can do supervised learning algorithms. As the dependent variable is continuous numerical value this is a regression problem. The data contains no missing values but it does contain outliers. \n",
    "\n",
    "However, some machine learning algorithms like decision tree and random forest are not sensitive to outliers, therefore we have not removed the outliers. The variables have good correlation except for regions. The variables like bmi, children and smoker are normally distributed but the others are not. Feature scaling using min-max scaler was done to give all features equal importance. Regions was removed as it had no correlation. Different ml algorithms were trained using the dataset and tested. \n",
    "\n",
    "Decision tree gave the best r2 score of 97.56% and adjusted r2 score of 97.56% as well.We trained the decision tree algorithm again with best parameters from randomised search. The r2 score increased to 98.401% and adjusted r2 score was 98.399%. The r2 score is greater than the adjusted r2 score. A visualisation of the tree was also done to have better interpretation of the algorithm."
   ]
  }
 ],
 "metadata": {
  "kernelspec": {
   "display_name": "Python 3",
   "language": "python",
   "name": "python3"
  },
  "language_info": {
   "codemirror_mode": {
    "name": "ipython",
    "version": 3
   },
   "file_extension": ".py",
   "mimetype": "text/x-python",
   "name": "python",
   "nbconvert_exporter": "python",
   "pygments_lexer": "ipython3",
   "version": "3.8.8"
  }
 },
 "nbformat": 4,
 "nbformat_minor": 5
}
